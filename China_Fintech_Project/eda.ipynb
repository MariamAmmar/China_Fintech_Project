{
 "cells": [
  {
   "cell_type": "code",
   "execution_count": 1,
   "metadata": {},
   "outputs": [],
   "source": [
    "import pandas as pd\n",
    "import numpy as np\n",
    "import matplotlib.pyplot as plt\n",
    "import seaborn as sns\n",
    "from sklearn.impute import SimpleImputer\n",
    "import numpy as np\n",
    "import matplotlib.pyplot as plt\n",
    "import matplotlib"
   ]
  },
  {
   "cell_type": "code",
   "execution_count": 2,
   "metadata": {},
   "outputs": [],
   "source": [
    "[f for f in matplotlib.font_manager.fontManager.ttflist if 'Heiti' in f.name]\n",
    "plt.rcParams['font.family'] = ['Heiti TC']\n",
    "plt.rcParams.update({'font.size': 14})"
   ]
  },
  {
   "cell_type": "code",
   "execution_count": 3,
   "metadata": {},
   "outputs": [],
   "source": [
    "file = 'data/gdp_clean_fintech.csv'"
   ]
  },
  {
   "cell_type": "code",
   "execution_count": 4,
   "metadata": {},
   "outputs": [
    {
     "data": {
      "text/plain": [
       "(9120, 24)"
      ]
     },
     "execution_count": 4,
     "metadata": {},
     "output_type": "execute_result"
    }
   ],
   "source": [
    "data = pd.read_csv(file)\n",
    "df = data.copy()\n",
    "df.shape"
   ]
  },
  {
   "cell_type": "code",
   "execution_count": 20,
   "metadata": {},
   "outputs": [
    {
     "data": {
      "text/plain": [
       "[<matplotlib.lines.Line2D at 0x13f3e1210>]"
      ]
     },
     "execution_count": 20,
     "metadata": {},
     "output_type": "execute_result"
    },
    {
     "data": {
      "image/png": "[encoded data removed]",
      "text/plain": [
       "<Figure size 720x360 with 1 Axes>"
      ]
     },
     "metadata": {
      "needs_background": "light"
     },
     "output_type": "display_data"
    }
   ],
   "source": [
    "df.head()\n",
    "year_grouped = df.groupby(\"year\")['index_aggregate'].mean()\n",
    "plt.title(\"Overall index_aggregate Level 2014-2018\")\n",
    "plt.plot(year_grouped)"
   ]
  },
  {
   "cell_type": "code",
   "execution_count": 21,
   "metadata": {},
   "outputs": [
    {
     "data": {
      "text/plain": [
       "Index(['year', 'county_name', 'county_code_year14', 'prov_code', 'prov_name',\n",
       "       'pref_code', 'pref_name', 'index_aggregate', 'coverage_breadth',\n",
       "       'usage_depth', 'payment', 'insurance', 'monetary_fund', 'investment',\n",
       "       'credit', 'credit_investigation', 'digitization_level', 'flb', 'gdp',\n",
       "       'per_gdp', 'urban', 'industry', 'ip', 'tradeopeness'],\n",
       "      dtype='object')"
      ]
     },
     "execution_count": 21,
     "metadata": {},
     "output_type": "execute_result"
    }
   ],
   "source": [
    "df.columns"
   ]
  },
  {
   "cell_type": "code",
   "execution_count": 22,
   "metadata": {},
   "outputs": [
    {
     "data": {
      "text/html": [
       "<div>\n",
       "<style scoped>\n",
       "    .dataframe tbody tr th:only-of-type {\n",
       "        vertical-align: middle;\n",
       "    }\n",
       "\n",
       "    .dataframe tbody tr th {\n",
       "        vertical-align: top;\n",
       "    }\n",
       "\n",
       "    .dataframe thead th {\n",
       "        text-align: right;\n",
       "    }\n",
       "</style>\n",
       "<table border=\"1\" class=\"dataframe\">\n",
       "  <thead>\n",
       "    <tr style=\"text-align: right;\">\n",
       "      <th></th>\n",
       "      <th>year</th>\n",
       "      <th>county_name</th>\n",
       "      <th>county_code_year14</th>\n",
       "      <th>prov_code</th>\n",
       "      <th>prov_name</th>\n",
       "      <th>pref_code</th>\n",
       "      <th>pref_name</th>\n",
       "      <th>index_aggregate</th>\n",
       "      <th>coverage_breadth</th>\n",
       "      <th>usage_depth</th>\n",
       "      <th>...</th>\n",
       "      <th>credit</th>\n",
       "      <th>credit_investigation</th>\n",
       "      <th>digitization_level</th>\n",
       "      <th>flb</th>\n",
       "      <th>gdp</th>\n",
       "      <th>per_gdp</th>\n",
       "      <th>urban</th>\n",
       "      <th>industry</th>\n",
       "      <th>ip</th>\n",
       "      <th>tradeopeness</th>\n",
       "    </tr>\n",
       "  </thead>\n",
       "  <tbody>\n",
       "    <tr>\n",
       "      <th>2548</th>\n",
       "      <td>2015</td>\n",
       "      <td>昆山市</td>\n",
       "      <td>320583</td>\n",
       "      <td>32</td>\n",
       "      <td>江苏省</td>\n",
       "      <td>3205</td>\n",
       "      <td>苏州市</td>\n",
       "      <td>131.75</td>\n",
       "      <td>168.16</td>\n",
       "      <td>107.38</td>\n",
       "      <td>...</td>\n",
       "      <td>107.13</td>\n",
       "      <td>97.98</td>\n",
       "      <td>55.79</td>\n",
       "      <td>22000000.0</td>\n",
       "      <td>31000000.0</td>\n",
       "      <td>186582.0</td>\n",
       "      <td>0.196271</td>\n",
       "      <td>0.518705</td>\n",
       "      <td>0.921139</td>\n",
       "      <td>1.087865</td>\n",
       "    </tr>\n",
       "    <tr>\n",
       "      <th>1803</th>\n",
       "      <td>2015</td>\n",
       "      <td>义乌市</td>\n",
       "      <td>330782</td>\n",
       "      <td>33</td>\n",
       "      <td>浙江省</td>\n",
       "      <td>3307</td>\n",
       "      <td>金华市</td>\n",
       "      <td>129.92</td>\n",
       "      <td>168.43</td>\n",
       "      <td>130.89</td>\n",
       "      <td>...</td>\n",
       "      <td>134.28</td>\n",
       "      <td>90.52</td>\n",
       "      <td>1.04</td>\n",
       "      <td>21000000.0</td>\n",
       "      <td>10000000.0</td>\n",
       "      <td>135882.0</td>\n",
       "      <td>0.196271</td>\n",
       "      <td>0.312215</td>\n",
       "      <td>0.819610</td>\n",
       "      <td>2.018084</td>\n",
       "    </tr>\n",
       "    <tr>\n",
       "      <th>7314</th>\n",
       "      <td>2018</td>\n",
       "      <td>义乌市</td>\n",
       "      <td>330782</td>\n",
       "      <td>33</td>\n",
       "      <td>浙江省</td>\n",
       "      <td>3307</td>\n",
       "      <td>金华市</td>\n",
       "      <td>127.21</td>\n",
       "      <td>111.40</td>\n",
       "      <td>175.40</td>\n",
       "      <td>...</td>\n",
       "      <td>197.42</td>\n",
       "      <td>136.26</td>\n",
       "      <td>91.84</td>\n",
       "      <td>24000000.0</td>\n",
       "      <td>12000000.0</td>\n",
       "      <td>95795.0</td>\n",
       "      <td>0.324884</td>\n",
       "      <td>0.279094</td>\n",
       "      <td>0.193353</td>\n",
       "      <td>2.033799</td>\n",
       "    </tr>\n",
       "    <tr>\n",
       "      <th>3222</th>\n",
       "      <td>2015</td>\n",
       "      <td>郫县</td>\n",
       "      <td>510124</td>\n",
       "      <td>51</td>\n",
       "      <td>四川省</td>\n",
       "      <td>5101</td>\n",
       "      <td>成都市</td>\n",
       "      <td>127.06</td>\n",
       "      <td>166.50</td>\n",
       "      <td>91.18</td>\n",
       "      <td>...</td>\n",
       "      <td>88.61</td>\n",
       "      <td>92.37</td>\n",
       "      <td>62.05</td>\n",
       "      <td>3500000.0</td>\n",
       "      <td>4300000.0</td>\n",
       "      <td>51865.0</td>\n",
       "      <td>0.496786</td>\n",
       "      <td>0.339599</td>\n",
       "      <td>0.101628</td>\n",
       "      <td>0.051932</td>\n",
       "    </tr>\n",
       "    <tr>\n",
       "      <th>1871</th>\n",
       "      <td>2015</td>\n",
       "      <td>伊宁市</td>\n",
       "      <td>654002</td>\n",
       "      <td>65</td>\n",
       "      <td>新疆维吾尔自治区</td>\n",
       "      <td>6540</td>\n",
       "      <td>伊犁哈萨克自治州</td>\n",
       "      <td>126.92</td>\n",
       "      <td>174.81</td>\n",
       "      <td>73.94</td>\n",
       "      <td>...</td>\n",
       "      <td>65.00</td>\n",
       "      <td>58.25</td>\n",
       "      <td>65.10</td>\n",
       "      <td>4400000.0</td>\n",
       "      <td>2100000.0</td>\n",
       "      <td>37957.0</td>\n",
       "      <td>0.641036</td>\n",
       "      <td>0.084952</td>\n",
       "      <td>0.101628</td>\n",
       "      <td>0.031946</td>\n",
       "    </tr>\n",
       "    <tr>\n",
       "      <th>2032</th>\n",
       "      <td>2015</td>\n",
       "      <td>双流县</td>\n",
       "      <td>510122</td>\n",
       "      <td>51</td>\n",
       "      <td>四川省</td>\n",
       "      <td>5101</td>\n",
       "      <td>成都市</td>\n",
       "      <td>126.79</td>\n",
       "      <td>163.03</td>\n",
       "      <td>104.30</td>\n",
       "      <td>...</td>\n",
       "      <td>106.13</td>\n",
       "      <td>93.72</td>\n",
       "      <td>48.01</td>\n",
       "      <td>6800000.0</td>\n",
       "      <td>8700000.0</td>\n",
       "      <td>67862.0</td>\n",
       "      <td>0.594423</td>\n",
       "      <td>0.339599</td>\n",
       "      <td>0.101628</td>\n",
       "      <td>0.228966</td>\n",
       "    </tr>\n",
       "    <tr>\n",
       "      <th>8128</th>\n",
       "      <td>2018</td>\n",
       "      <td>昆山市</td>\n",
       "      <td>320583</td>\n",
       "      <td>32</td>\n",
       "      <td>江苏省</td>\n",
       "      <td>3205</td>\n",
       "      <td>苏州市</td>\n",
       "      <td>125.19</td>\n",
       "      <td>109.66</td>\n",
       "      <td>157.96</td>\n",
       "      <td>...</td>\n",
       "      <td>188.45</td>\n",
       "      <td>135.86</td>\n",
       "      <td>116.96</td>\n",
       "      <td>34000000.0</td>\n",
       "      <td>38000000.0</td>\n",
       "      <td>230270.0</td>\n",
       "      <td>0.324884</td>\n",
       "      <td>0.509170</td>\n",
       "      <td>0.193353</td>\n",
       "      <td>0.237948</td>\n",
       "    </tr>\n",
       "    <tr>\n",
       "      <th>8742</th>\n",
       "      <td>2018</td>\n",
       "      <td>莱山区</td>\n",
       "      <td>370613</td>\n",
       "      <td>37</td>\n",
       "      <td>山东省</td>\n",
       "      <td>3706</td>\n",
       "      <td>烟台市</td>\n",
       "      <td>124.36</td>\n",
       "      <td>109.46</td>\n",
       "      <td>147.28</td>\n",
       "      <td>...</td>\n",
       "      <td>166.50</td>\n",
       "      <td>132.64</td>\n",
       "      <td>131.90</td>\n",
       "      <td>3500000.0</td>\n",
       "      <td>1300000.0</td>\n",
       "      <td>34697.0</td>\n",
       "      <td>0.324884</td>\n",
       "      <td>0.269670</td>\n",
       "      <td>0.193353</td>\n",
       "      <td>0.237948</td>\n",
       "    </tr>\n",
       "    <tr>\n",
       "      <th>7784</th>\n",
       "      <td>2018</td>\n",
       "      <td>定海区</td>\n",
       "      <td>330902</td>\n",
       "      <td>33</td>\n",
       "      <td>浙江省</td>\n",
       "      <td>3309</td>\n",
       "      <td>舟山市</td>\n",
       "      <td>124.27</td>\n",
       "      <td>105.05</td>\n",
       "      <td>163.29</td>\n",
       "      <td>...</td>\n",
       "      <td>180.30</td>\n",
       "      <td>133.39</td>\n",
       "      <td>116.86</td>\n",
       "      <td>1200000.0</td>\n",
       "      <td>1300000.0</td>\n",
       "      <td>34697.0</td>\n",
       "      <td>0.324884</td>\n",
       "      <td>0.269670</td>\n",
       "      <td>0.193353</td>\n",
       "      <td>0.237948</td>\n",
       "    </tr>\n",
       "    <tr>\n",
       "      <th>3286</th>\n",
       "      <td>2015</td>\n",
       "      <td>闽侯县</td>\n",
       "      <td>350121</td>\n",
       "      <td>35</td>\n",
       "      <td>福建省</td>\n",
       "      <td>3501</td>\n",
       "      <td>福州市</td>\n",
       "      <td>124.12</td>\n",
       "      <td>156.16</td>\n",
       "      <td>98.82</td>\n",
       "      <td>...</td>\n",
       "      <td>107.91</td>\n",
       "      <td>81.67</td>\n",
       "      <td>64.33</td>\n",
       "      <td>2300000.0</td>\n",
       "      <td>4400000.0</td>\n",
       "      <td>62810.0</td>\n",
       "      <td>0.196271</td>\n",
       "      <td>0.543683</td>\n",
       "      <td>0.101628</td>\n",
       "      <td>0.031946</td>\n",
       "    </tr>\n",
       "  </tbody>\n",
       "</table>\n",
       "<p>10 rows × 24 columns</p>\n",
       "</div>"
      ],
      "text/plain": [
       "      year county_name  county_code_year14  prov_code prov_name  pref_code  \\\n",
       "2548  2015         昆山市              320583         32       江苏省       3205   \n",
       "1803  2015         义乌市              330782         33       浙江省       3307   \n",
       "7314  2018         义乌市              330782         33       浙江省       3307   \n",
       "3222  2015          郫县              510124         51       四川省       5101   \n",
       "1871  2015         伊宁市              654002         65  新疆维吾尔自治区       6540   \n",
       "2032  2015         双流县              510122         51       四川省       5101   \n",
       "8128  2018         昆山市              320583         32       江苏省       3205   \n",
       "8742  2018         莱山区              370613         37       山东省       3706   \n",
       "7784  2018         定海区              330902         33       浙江省       3309   \n",
       "3286  2015         闽侯县              350121         35       福建省       3501   \n",
       "\n",
       "     pref_name  index_aggregate  coverage_breadth  usage_depth  ...  credit  \\\n",
       "2548       苏州市           131.75            168.16       107.38  ...  107.13   \n",
       "1803       金华市           129.92            168.43       130.89  ...  134.28   \n",
       "7314       金华市           127.21            111.40       175.40  ...  197.42   \n",
       "3222       成都市           127.06            166.50        91.18  ...   88.61   \n",
       "1871  伊犁哈萨克自治州           126.92            174.81        73.94  ...   65.00   \n",
       "2032       成都市           126.79            163.03       104.30  ...  106.13   \n",
       "8128       苏州市           125.19            109.66       157.96  ...  188.45   \n",
       "8742       烟台市           124.36            109.46       147.28  ...  166.50   \n",
       "7784       舟山市           124.27            105.05       163.29  ...  180.30   \n",
       "3286       福州市           124.12            156.16        98.82  ...  107.91   \n",
       "\n",
       "      credit_investigation  digitization_level         flb         gdp  \\\n",
       "2548                 97.98               55.79  22000000.0  31000000.0   \n",
       "1803                 90.52                1.04  21000000.0  10000000.0   \n",
       "7314                136.26               91.84  24000000.0  12000000.0   \n",
       "3222                 92.37               62.05   3500000.0   4300000.0   \n",
       "1871                 58.25               65.10   4400000.0   2100000.0   \n",
       "2032                 93.72               48.01   6800000.0   8700000.0   \n",
       "8128                135.86              116.96  34000000.0  38000000.0   \n",
       "8742                132.64              131.90   3500000.0   1300000.0   \n",
       "7784                133.39              116.86   1200000.0   1300000.0   \n",
       "3286                 81.67               64.33   2300000.0   4400000.0   \n",
       "\n",
       "       per_gdp     urban  industry        ip  tradeopeness  \n",
       "2548  186582.0  0.196271  0.518705  0.921139      1.087865  \n",
       "1803  135882.0  0.196271  0.312215  0.819610      2.018084  \n",
       "7314   95795.0  0.324884  0.279094  0.193353      2.033799  \n",
       "3222   51865.0  0.496786  0.339599  0.101628      0.051932  \n",
       "1871   37957.0  0.641036  0.084952  0.101628      0.031946  \n",
       "2032   67862.0  0.594423  0.339599  0.101628      0.228966  \n",
       "8128  230270.0  0.324884  0.509170  0.193353      0.237948  \n",
       "8742   34697.0  0.324884  0.269670  0.193353      0.237948  \n",
       "7784   34697.0  0.324884  0.269670  0.193353      0.237948  \n",
       "3286   62810.0  0.196271  0.543683  0.101628      0.031946  \n",
       "\n",
       "[10 rows x 24 columns]"
      ]
     },
     "execution_count": 22,
     "metadata": {},
     "output_type": "execute_result"
    }
   ],
   "source": [
    "top_10_index = df.sort_values([\"index_aggregate\"], ascending=False).head(10)\n",
    "top_10_index"
   ]
  },
  {
   "cell_type": "code",
   "execution_count": 23,
   "metadata": {},
   "outputs": [
    {
     "data": {
      "text/plain": [
       "[<matplotlib.lines.Line2D at 0x13f475b90>]"
      ]
     },
     "execution_count": 23,
     "metadata": {},
     "output_type": "execute_result"
    },
    {
     "data": {
      "image/png": "[encoded data removed]",
      "text/plain": [
       "<Figure size 720x360 with 1 Axes>"
      ]
     },
     "metadata": {
      "needs_background": "light"
     },
     "output_type": "display_data"
    }
   ],
   "source": [
    "gdp = df.groupby(\"year\")[\"index_aggregate\"].mean()\n",
    "# gdp_mean = df.groupby(\"year\")[\"gdp\"].median()\n",
    "plt.rcParams['figure.figsize'] = [10, 5]\n",
    "plt.title(\"Overall index_aggregate\")\n",
    "plt.xticks([2014,2015,2016,2017,2018])\n",
    "plt.plot(gdp)"
   ]
  },
  {
   "cell_type": "code",
   "execution_count": 25,
   "metadata": {},
   "outputs": [
    {
     "data": {
      "image/png": "[encoded data removed]",
      "text/plain": [
       "<Figure size 720x288 with 1 Axes>"
      ]
     },
     "metadata": {
      "needs_background": "light"
     },
     "output_type": "display_data"
    }
   ],
   "source": [
    "plt.figure(figsize=(10,4))\n",
    "plt.bar(top_10_index.county_name, top_10_index.index_aggregate, align='center', alpha=0.5, )\n",
    "plt.ylabel('Index Aggregate Level')\n",
    "plt.title('Top Index Aggregate Counties')\n",
    "plt.ylim((0,160))\n",
    "plt.savefig('top_index_aggre.png')\n",
    "plt.show()"
   ]
  },
  {
   "cell_type": "markdown",
   "metadata": {},
   "source": [
    "## Growth Rate"
   ]
  },
  {
   "cell_type": "code",
   "execution_count": 95,
   "metadata": {},
   "outputs": [
    {
     "data": {
      "text/html": [
       "<div>\n",
       "<style scoped>\n",
       "    .dataframe tbody tr th:only-of-type {\n",
       "        vertical-align: middle;\n",
       "    }\n",
       "\n",
       "    .dataframe tbody tr th {\n",
       "        vertical-align: top;\n",
       "    }\n",
       "\n",
       "    .dataframe thead th {\n",
       "        text-align: right;\n",
       "    }\n",
       "</style>\n",
       "<table border=\"1\" class=\"dataframe\">\n",
       "  <thead>\n",
       "    <tr style=\"text-align: right;\">\n",
       "      <th></th>\n",
       "      <th>year</th>\n",
       "      <th>county_name</th>\n",
       "      <th>county_code_year14</th>\n",
       "      <th>prov_code</th>\n",
       "      <th>prov_name</th>\n",
       "      <th>pref_code</th>\n",
       "      <th>pref_name</th>\n",
       "      <th>index_aggregate</th>\n",
       "      <th>coverage_breadth</th>\n",
       "      <th>usage_depth</th>\n",
       "      <th>...</th>\n",
       "      <th>credit</th>\n",
       "      <th>credit_investigation</th>\n",
       "      <th>digitization_level</th>\n",
       "      <th>flb</th>\n",
       "      <th>gdp</th>\n",
       "      <th>per_gdp</th>\n",
       "      <th>urban</th>\n",
       "      <th>industry</th>\n",
       "      <th>ip</th>\n",
       "      <th>tradeopeness</th>\n",
       "    </tr>\n",
       "  </thead>\n",
       "  <tbody>\n",
       "    <tr>\n",
       "      <th>0</th>\n",
       "      <td>2014</td>\n",
       "      <td>万全县</td>\n",
       "      <td>130729</td>\n",
       "      <td>13</td>\n",
       "      <td>河北省</td>\n",
       "      <td>1307</td>\n",
       "      <td>张家口市</td>\n",
       "      <td>44.58</td>\n",
       "      <td>52.42</td>\n",
       "      <td>37.77</td>\n",
       "      <td>...</td>\n",
       "      <td>35.34</td>\n",
       "      <td>0.0</td>\n",
       "      <td>31.04</td>\n",
       "      <td>528889.0</td>\n",
       "      <td>634602.0</td>\n",
       "      <td>27323.0</td>\n",
       "      <td>0.214560</td>\n",
       "      <td>0.432618</td>\n",
       "      <td>0.064318</td>\n",
       "      <td>0.010522</td>\n",
       "    </tr>\n",
       "    <tr>\n",
       "      <th>1</th>\n",
       "      <td>2014</td>\n",
       "      <td>万安县</td>\n",
       "      <td>360828</td>\n",
       "      <td>36</td>\n",
       "      <td>江西省</td>\n",
       "      <td>3608</td>\n",
       "      <td>吉安市</td>\n",
       "      <td>44.39</td>\n",
       "      <td>33.21</td>\n",
       "      <td>78.26</td>\n",
       "      <td>...</td>\n",
       "      <td>85.27</td>\n",
       "      <td>0.0</td>\n",
       "      <td>19.80</td>\n",
       "      <td>341328.0</td>\n",
       "      <td>575617.0</td>\n",
       "      <td>27323.0</td>\n",
       "      <td>0.214560</td>\n",
       "      <td>0.361632</td>\n",
       "      <td>0.106057</td>\n",
       "      <td>0.031628</td>\n",
       "    </tr>\n",
       "    <tr>\n",
       "      <th>2</th>\n",
       "      <td>2014</td>\n",
       "      <td>万年县</td>\n",
       "      <td>361129</td>\n",
       "      <td>36</td>\n",
       "      <td>江西省</td>\n",
       "      <td>3611</td>\n",
       "      <td>上饶市</td>\n",
       "      <td>47.34</td>\n",
       "      <td>42.86</td>\n",
       "      <td>60.84</td>\n",
       "      <td>...</td>\n",
       "      <td>57.87</td>\n",
       "      <td>0.0</td>\n",
       "      <td>37.63</td>\n",
       "      <td>644512.0</td>\n",
       "      <td>1000000.0</td>\n",
       "      <td>27323.0</td>\n",
       "      <td>0.214560</td>\n",
       "      <td>0.361632</td>\n",
       "      <td>0.106057</td>\n",
       "      <td>0.031628</td>\n",
       "    </tr>\n",
       "    <tr>\n",
       "      <th>3</th>\n",
       "      <td>2014</td>\n",
       "      <td>万源市</td>\n",
       "      <td>511781</td>\n",
       "      <td>51</td>\n",
       "      <td>四川省</td>\n",
       "      <td>5117</td>\n",
       "      <td>达州市</td>\n",
       "      <td>41.67</td>\n",
       "      <td>46.64</td>\n",
       "      <td>41.19</td>\n",
       "      <td>...</td>\n",
       "      <td>45.24</td>\n",
       "      <td>0.0</td>\n",
       "      <td>26.13</td>\n",
       "      <td>574068.0</td>\n",
       "      <td>1200000.0</td>\n",
       "      <td>28395.0</td>\n",
       "      <td>0.561833</td>\n",
       "      <td>0.361632</td>\n",
       "      <td>0.078333</td>\n",
       "      <td>0.005540</td>\n",
       "    </tr>\n",
       "    <tr>\n",
       "      <th>4</th>\n",
       "      <td>2014</td>\n",
       "      <td>万荣县</td>\n",
       "      <td>140822</td>\n",
       "      <td>14</td>\n",
       "      <td>山西省</td>\n",
       "      <td>1408</td>\n",
       "      <td>运城市</td>\n",
       "      <td>45.07</td>\n",
       "      <td>48.69</td>\n",
       "      <td>44.57</td>\n",
       "      <td>...</td>\n",
       "      <td>62.17</td>\n",
       "      <td>0.0</td>\n",
       "      <td>34.01</td>\n",
       "      <td>359126.0</td>\n",
       "      <td>618199.0</td>\n",
       "      <td>13778.0</td>\n",
       "      <td>0.069839</td>\n",
       "      <td>0.361632</td>\n",
       "      <td>0.106057</td>\n",
       "      <td>0.031628</td>\n",
       "    </tr>\n",
       "  </tbody>\n",
       "</table>\n",
       "<p>5 rows × 24 columns</p>\n",
       "</div>"
      ],
      "text/plain": [
       "   year county_name  county_code_year14  prov_code prov_name  pref_code  \\\n",
       "0  2014         万全县              130729         13       河北省       1307   \n",
       "1  2014         万安县              360828         36       江西省       3608   \n",
       "2  2014         万年县              361129         36       江西省       3611   \n",
       "3  2014         万源市              511781         51       四川省       5117   \n",
       "4  2014         万荣县              140822         14       山西省       1408   \n",
       "\n",
       "  pref_name  index_aggregate  coverage_breadth  usage_depth  ...  credit  \\\n",
       "0      张家口市            44.58             52.42        37.77  ...   35.34   \n",
       "1       吉安市            44.39             33.21        78.26  ...   85.27   \n",
       "2       上饶市            47.34             42.86        60.84  ...   57.87   \n",
       "3       达州市            41.67             46.64        41.19  ...   45.24   \n",
       "4       运城市            45.07             48.69        44.57  ...   62.17   \n",
       "\n",
       "   credit_investigation  digitization_level       flb        gdp  per_gdp  \\\n",
       "0                   0.0               31.04  528889.0   634602.0  27323.0   \n",
       "1                   0.0               19.80  341328.0   575617.0  27323.0   \n",
       "2                   0.0               37.63  644512.0  1000000.0  27323.0   \n",
       "3                   0.0               26.13  574068.0  1200000.0  28395.0   \n",
       "4                   0.0               34.01  359126.0   618199.0  13778.0   \n",
       "\n",
       "      urban  industry        ip  tradeopeness  \n",
       "0  0.214560  0.432618  0.064318      0.010522  \n",
       "1  0.214560  0.361632  0.106057      0.031628  \n",
       "2  0.214560  0.361632  0.106057      0.031628  \n",
       "3  0.561833  0.361632  0.078333      0.005540  \n",
       "4  0.069839  0.361632  0.106057      0.031628  \n",
       "\n",
       "[5 rows x 24 columns]"
      ]
     },
     "execution_count": 95,
     "metadata": {},
     "output_type": "execute_result"
    }
   ],
   "source": [
    "df.head()"
   ]
  },
  {
   "cell_type": "code",
   "execution_count": 27,
   "metadata": {},
   "outputs": [
    {
     "data": {
      "text/html": [
       "<div>\n",
       "<style scoped>\n",
       "    .dataframe tbody tr th:only-of-type {\n",
       "        vertical-align: middle;\n",
       "    }\n",
       "\n",
       "    .dataframe tbody tr th {\n",
       "        vertical-align: top;\n",
       "    }\n",
       "\n",
       "    .dataframe thead th {\n",
       "        text-align: right;\n",
       "    }\n",
       "</style>\n",
       "<table border=\"1\" class=\"dataframe\">\n",
       "  <thead>\n",
       "    <tr style=\"text-align: right;\">\n",
       "      <th></th>\n",
       "      <th>county_code_year14</th>\n",
       "      <th>prov_code</th>\n",
       "      <th>pref_code</th>\n",
       "      <th>index_aggregate</th>\n",
       "      <th>coverage_breadth</th>\n",
       "      <th>usage_depth</th>\n",
       "      <th>payment</th>\n",
       "      <th>insurance</th>\n",
       "      <th>monetary_fund</th>\n",
       "      <th>investment</th>\n",
       "      <th>credit</th>\n",
       "      <th>credit_investigation</th>\n",
       "      <th>digitization_level</th>\n",
       "      <th>flb</th>\n",
       "      <th>gdp</th>\n",
       "      <th>per_gdp</th>\n",
       "      <th>urban</th>\n",
       "      <th>industry</th>\n",
       "      <th>ip</th>\n",
       "      <th>tradeopeness</th>\n",
       "    </tr>\n",
       "    <tr>\n",
       "      <th>year</th>\n",
       "      <th></th>\n",
       "      <th></th>\n",
       "      <th></th>\n",
       "      <th></th>\n",
       "      <th></th>\n",
       "      <th></th>\n",
       "      <th></th>\n",
       "      <th></th>\n",
       "      <th></th>\n",
       "      <th></th>\n",
       "      <th></th>\n",
       "      <th></th>\n",
       "      <th></th>\n",
       "      <th></th>\n",
       "      <th></th>\n",
       "      <th></th>\n",
       "      <th></th>\n",
       "      <th></th>\n",
       "      <th></th>\n",
       "      <th></th>\n",
       "    </tr>\n",
       "  </thead>\n",
       "  <tbody>\n",
       "    <tr>\n",
       "      <th>2014</th>\n",
       "      <td>389975.519186</td>\n",
       "      <td>38.887791</td>\n",
       "      <td>3899.402907</td>\n",
       "      <td>47.014948</td>\n",
       "      <td>47.349488</td>\n",
       "      <td>51.742640</td>\n",
       "      <td>40.229308</td>\n",
       "      <td>45.319233</td>\n",
       "      <td>46.056209</td>\n",
       "      <td>51.919337</td>\n",
       "      <td>56.547860</td>\n",
       "      <td>0.000000</td>\n",
       "      <td>37.320140</td>\n",
       "      <td>9.581009e+05</td>\n",
       "      <td>1.646521e+06</td>\n",
       "      <td>32984.196523</td>\n",
       "      <td>0.238126</td>\n",
       "      <td>0.360936</td>\n",
       "      <td>0.114754</td>\n",
       "      <td>0.046953</td>\n",
       "    </tr>\n",
       "    <tr>\n",
       "      <th>2015</th>\n",
       "      <td>389975.519186</td>\n",
       "      <td>38.887791</td>\n",
       "      <td>3899.402907</td>\n",
       "      <td>67.641622</td>\n",
       "      <td>68.326471</td>\n",
       "      <td>72.390448</td>\n",
       "      <td>72.947477</td>\n",
       "      <td>45.485890</td>\n",
       "      <td>75.634320</td>\n",
       "      <td>91.040779</td>\n",
       "      <td>77.604971</td>\n",
       "      <td>46.525570</td>\n",
       "      <td>56.751901</td>\n",
       "      <td>1.075171e+06</td>\n",
       "      <td>1.726934e+06</td>\n",
       "      <td>34761.524721</td>\n",
       "      <td>0.223935</td>\n",
       "      <td>0.336983</td>\n",
       "      <td>0.105470</td>\n",
       "      <td>0.045473</td>\n",
       "    </tr>\n",
       "    <tr>\n",
       "      <th>2016</th>\n",
       "      <td>398255.572559</td>\n",
       "      <td>39.700264</td>\n",
       "      <td>9805.877573</td>\n",
       "      <td>87.213377</td>\n",
       "      <td>89.448828</td>\n",
       "      <td>89.179208</td>\n",
       "      <td>56.334290</td>\n",
       "      <td>66.762164</td>\n",
       "      <td>70.536945</td>\n",
       "      <td>105.073277</td>\n",
       "      <td>97.201821</td>\n",
       "      <td>80.535953</td>\n",
       "      <td>76.265261</td>\n",
       "      <td>1.168182e+06</td>\n",
       "      <td>1.773454e+06</td>\n",
       "      <td>37406.614084</td>\n",
       "      <td>0.234955</td>\n",
       "      <td>0.337348</td>\n",
       "      <td>0.135062</td>\n",
       "      <td>0.037858</td>\n",
       "    </tr>\n",
       "    <tr>\n",
       "      <th>2017</th>\n",
       "      <td>397583.649179</td>\n",
       "      <td>39.632220</td>\n",
       "      <td>8786.625861</td>\n",
       "      <td>101.480291</td>\n",
       "      <td>90.798866</td>\n",
       "      <td>121.981987</td>\n",
       "      <td>60.342136</td>\n",
       "      <td>91.523137</td>\n",
       "      <td>80.359889</td>\n",
       "      <td>143.122846</td>\n",
       "      <td>133.801786</td>\n",
       "      <td>125.487048</td>\n",
       "      <td>99.501834</td>\n",
       "      <td>1.323184e+06</td>\n",
       "      <td>1.897920e+06</td>\n",
       "      <td>36752.678988</td>\n",
       "      <td>0.262458</td>\n",
       "      <td>0.285496</td>\n",
       "      <td>0.162773</td>\n",
       "      <td>0.047514</td>\n",
       "    </tr>\n",
       "    <tr>\n",
       "      <th>2018</th>\n",
       "      <td>398697.388830</td>\n",
       "      <td>39.744995</td>\n",
       "      <td>9113.616438</td>\n",
       "      <td>101.544852</td>\n",
       "      <td>89.122092</td>\n",
       "      <td>119.839521</td>\n",
       "      <td>66.146807</td>\n",
       "      <td>95.373604</td>\n",
       "      <td>69.086633</td>\n",
       "      <td>135.519009</td>\n",
       "      <td>135.938451</td>\n",
       "      <td>113.597055</td>\n",
       "      <td>109.326607</td>\n",
       "      <td>1.565505e+06</td>\n",
       "      <td>1.998148e+06</td>\n",
       "      <td>39566.261560</td>\n",
       "      <td>0.323935</td>\n",
       "      <td>0.269303</td>\n",
       "      <td>0.193469</td>\n",
       "      <td>0.239354</td>\n",
       "    </tr>\n",
       "  </tbody>\n",
       "</table>\n",
       "</div>"
      ],
      "text/plain": [
       "      county_code_year14  prov_code    pref_code  index_aggregate  \\\n",
       "year                                                                \n",
       "2014       389975.519186  38.887791  3899.402907        47.014948   \n",
       "2015       389975.519186  38.887791  3899.402907        67.641622   \n",
       "2016       398255.572559  39.700264  9805.877573        87.213377   \n",
       "2017       397583.649179  39.632220  8786.625861       101.480291   \n",
       "2018       398697.388830  39.744995  9113.616438       101.544852   \n",
       "\n",
       "      coverage_breadth  usage_depth    payment  insurance  monetary_fund  \\\n",
       "year                                                                       \n",
       "2014         47.349488    51.742640  40.229308  45.319233      46.056209   \n",
       "2015         68.326471    72.390448  72.947477  45.485890      75.634320   \n",
       "2016         89.448828    89.179208  56.334290  66.762164      70.536945   \n",
       "2017         90.798866   121.981987  60.342136  91.523137      80.359889   \n",
       "2018         89.122092   119.839521  66.146807  95.373604      69.086633   \n",
       "\n",
       "      investment      credit  credit_investigation  digitization_level  \\\n",
       "year                                                                     \n",
       "2014   51.919337   56.547860              0.000000           37.320140   \n",
       "2015   91.040779   77.604971             46.525570           56.751901   \n",
       "2016  105.073277   97.201821             80.535953           76.265261   \n",
       "2017  143.122846  133.801786            125.487048           99.501834   \n",
       "2018  135.519009  135.938451            113.597055          109.326607   \n",
       "\n",
       "               flb           gdp       per_gdp     urban  industry        ip  \\\n",
       "year                                                                           \n",
       "2014  9.581009e+05  1.646521e+06  32984.196523  0.238126  0.360936  0.114754   \n",
       "2015  1.075171e+06  1.726934e+06  34761.524721  0.223935  0.336983  0.105470   \n",
       "2016  1.168182e+06  1.773454e+06  37406.614084  0.234955  0.337348  0.135062   \n",
       "2017  1.323184e+06  1.897920e+06  36752.678988  0.262458  0.285496  0.162773   \n",
       "2018  1.565505e+06  1.998148e+06  39566.261560  0.323935  0.269303  0.193469   \n",
       "\n",
       "      tradeopeness  \n",
       "year                \n",
       "2014      0.046953  \n",
       "2015      0.045473  \n",
       "2016      0.037858  \n",
       "2017      0.047514  \n",
       "2018      0.239354  "
      ]
     },
     "execution_count": 27,
     "metadata": {},
     "output_type": "execute_result"
    }
   ],
   "source": [
    "df.groupby(\"year\").mean()"
   ]
  },
  {
   "cell_type": "code",
   "execution_count": null,
   "metadata": {},
   "outputs": [],
   "source": []
  },
  {
   "cell_type": "code",
   "execution_count": null,
   "metadata": {},
   "outputs": [],
   "source": []
  },
  {
   "cell_type": "code",
   "execution_count": null,
   "metadata": {},
   "outputs": [],
   "source": []
  },
  {
   "cell_type": "code",
   "execution_count": null,
   "metadata": {},
   "outputs": [],
   "source": []
  },
  {
   "cell_type": "markdown",
   "metadata": {},
   "source": [
    "## Using Ridge Regression"
   ]
  },
  {
   "cell_type": "code",
   "execution_count": 79,
   "metadata": {},
   "outputs": [],
   "source": [
    "import pandas as pd\n",
    "import numpy as np\n",
    "from matplotlib import pyplot as plt \n",
    "import seaborn as sns\n",
    "from sklearn.preprocessing import LabelEncoder, StandardScaler\n",
    "from sklearn.model_selection import train_test_split\n",
    "from sklearn.linear_model import LinearRegression\n",
    "from sklearn import metrics\n",
    "from sklearn import ensemble\n",
    "from sklearn.linear_model import Lasso,Ridge,ElasticNet"
   ]
  },
  {
   "cell_type": "code",
   "execution_count": 64,
   "metadata": {},
   "outputs": [
    {
     "data": {
      "text/plain": [
       "<AxesSubplot:>"
      ]
     },
     "execution_count": 64,
     "metadata": {},
     "output_type": "execute_result"
    },
    {
     "data": {
      "image/png": "[encoded data removed]",
      "text/plain": [
       "<Figure size 1440x1440 with 2 Axes>"
      ]
     },
     "metadata": {
      "needs_background": "light"
     },
     "output_type": "display_data"
    }
   ],
   "source": [
    "corr_mat=df.corr()\n",
    "fi,ax=plt.subplots(figsize=(20,20))\n",
    "sns.heatmap(corr_mat,square=True)"
   ]
  },
  {
   "cell_type": "code",
   "execution_count": 91,
   "metadata": {},
   "outputs": [],
   "source": [
    "from sklearn.preprocessing import MinMaxScaler, RobustScaler\n",
    "from sklearn.model_selection import train_test_split\n",
    "\n",
    "\n",
    "y = df[\"index_aggregate\"]\n",
    "X = df[['coverage_breadth',\n",
    "       'usage_depth', 'payment', 'insurance', 'monetary_fund', 'investment',\n",
    "       'credit', 'credit_investigation', 'digitization_level', 'flb', 'gdp',\n",
    "       'per_gdp', 'urban', 'industry', 'ip', 'tradeopeness']]\n",
    "X = RobustScaler().fit_transform(X)\n",
    "X = pd.DataFrame(X, columns = ['coverage_breadth',\n",
    "       'usage_depth', 'payment', 'insurance', 'monetary_fund', 'investment',\n",
    "       'credit', 'credit_investigation', 'digitization_level', 'flb', 'gdp',\n",
    "       'per_gdp', 'urban', 'industry', 'ip', 'tradeopeness'])\n",
    "\n",
    "x_train, x_test, y_train, y_test = train_test_split(X, y, test_size=0.2, random_state=1)"
   ]
  },
  {
   "cell_type": "code",
   "execution_count": 92,
   "metadata": {},
   "outputs": [],
   "source": [
    "# def regularization(model,alpha_range):\n",
    "#     rmse_score_insample=[]\n",
    "#     rmse_score_outsample=[]\n",
    "#     r2_score_insample=[]\n",
    "#     r2_score_outsample=[]\n",
    "#     for i in alpha_range:\n",
    "#         regularization = model(alpha=i,normalize=True)\n",
    "#         regularization.fit(x_train,y_train)\n",
    "#         y_pred_train = regularization.predict(x_train)\n",
    "#         y_pred_train = y_pred_train.reshape(-1,1)\n",
    "#         y_pred_test=regularization.predict(x_test)\n",
    "#         y_pred_test = y_pred_test.reshape(-1,1)\n",
    "#         rmse_score_insample.append(np.sqrt(metrics.mean_squared_error(y_train,y_pred_train )))\n",
    "#         rmse_score_outsample.append(np.sqrt(metrics.mean_squared_error(y_test, y_pred_test)))\n",
    "#         r2_score_insample.append(metrics.r2_score(y_train, y_pred_train))\n",
    "#         r2_score_outsample.append(metrics.r2_score(y_test, y_pred_test))\n",
    "#     df=pd.DataFrame()\n",
    "#     df['alpha']=alpha_range\n",
    "#     df['rmse_score_insample'] = rmse_score_insample\n",
    "#     df['rmse_score_outsample']= rmse_score_outsample \n",
    "#     df['r2_score_insample'] = r2_score_insample\n",
    "#     df['r2_score_outsample'] = r2_score_outsample\n",
    "#     return df.plot(x = 'alpha', y = ['rmse_score_insample', 'rmse_score_outsample'])"
   ]
  },
  {
   "cell_type": "code",
   "execution_count": 93,
   "metadata": {},
   "outputs": [],
   "source": [
    "# alpha_range_ridge = np.arange(0.001,1,0.1)\n",
    "# print(regularization(Ridge,alpha_range_ridge))"
   ]
  },
  {
   "cell_type": "code",
   "execution_count": 94,
   "metadata": {},
   "outputs": [
    {
     "data": {
      "text/html": [
       "<div>\n",
       "<style scoped>\n",
       "    .dataframe tbody tr th:only-of-type {\n",
       "        vertical-align: middle;\n",
       "    }\n",
       "\n",
       "    .dataframe tbody tr th {\n",
       "        vertical-align: top;\n",
       "    }\n",
       "\n",
       "    .dataframe thead th {\n",
       "        text-align: right;\n",
       "    }\n",
       "</style>\n",
       "<table border=\"1\" class=\"dataframe\">\n",
       "  <thead>\n",
       "    <tr style=\"text-align: right;\">\n",
       "      <th></th>\n",
       "      <th>coef_linreg</th>\n",
       "      <th>coef_ridge</th>\n",
       "      <th>coef_lasso</th>\n",
       "      <th>coef_elastic_net</th>\n",
       "    </tr>\n",
       "  </thead>\n",
       "  <tbody>\n",
       "    <tr>\n",
       "      <th>coverage_breadth</th>\n",
       "      <td>13.274266</td>\n",
       "      <td>13.262707</td>\n",
       "      <td>13.440514</td>\n",
       "      <td>7.170234</td>\n",
       "    </tr>\n",
       "    <tr>\n",
       "      <th>usage_depth</th>\n",
       "      <td>14.170925</td>\n",
       "      <td>11.332335</td>\n",
       "      <td>12.528770</td>\n",
       "      <td>3.118966</td>\n",
       "    </tr>\n",
       "    <tr>\n",
       "      <th>payment</th>\n",
       "      <td>0.000156</td>\n",
       "      <td>0.008865</td>\n",
       "      <td>0.000000</td>\n",
       "      <td>0.635648</td>\n",
       "    </tr>\n",
       "    <tr>\n",
       "      <th>insurance</th>\n",
       "      <td>-0.000649</td>\n",
       "      <td>0.484353</td>\n",
       "      <td>0.000000</td>\n",
       "      <td>2.488287</td>\n",
       "    </tr>\n",
       "    <tr>\n",
       "      <th>monetary_fund</th>\n",
       "      <td>-0.000040</td>\n",
       "      <td>0.147474</td>\n",
       "      <td>0.000000</td>\n",
       "      <td>1.823712</td>\n",
       "    </tr>\n",
       "    <tr>\n",
       "      <th>investment</th>\n",
       "      <td>-0.000426</td>\n",
       "      <td>0.762578</td>\n",
       "      <td>0.000000</td>\n",
       "      <td>3.225963</td>\n",
       "    </tr>\n",
       "    <tr>\n",
       "      <th>credit</th>\n",
       "      <td>-0.000989</td>\n",
       "      <td>1.321231</td>\n",
       "      <td>0.067689</td>\n",
       "      <td>3.157250</td>\n",
       "    </tr>\n",
       "    <tr>\n",
       "      <th>credit_investigation</th>\n",
       "      <td>-0.000649</td>\n",
       "      <td>0.242229</td>\n",
       "      <td>0.000000</td>\n",
       "      <td>3.392936</td>\n",
       "    </tr>\n",
       "    <tr>\n",
       "      <th>digitization_level</th>\n",
       "      <td>7.646285</td>\n",
       "      <td>7.599476</td>\n",
       "      <td>6.256401</td>\n",
       "      <td>3.707699</td>\n",
       "    </tr>\n",
       "    <tr>\n",
       "      <th>flb</th>\n",
       "      <td>0.000003</td>\n",
       "      <td>-0.002026</td>\n",
       "      <td>0.000000</td>\n",
       "      <td>0.000000</td>\n",
       "    </tr>\n",
       "    <tr>\n",
       "      <th>gdp</th>\n",
       "      <td>0.000013</td>\n",
       "      <td>0.006597</td>\n",
       "      <td>0.000000</td>\n",
       "      <td>-0.000000</td>\n",
       "    </tr>\n",
       "    <tr>\n",
       "      <th>per_gdp</th>\n",
       "      <td>0.000002</td>\n",
       "      <td>0.000069</td>\n",
       "      <td>0.000000</td>\n",
       "      <td>0.477951</td>\n",
       "    </tr>\n",
       "    <tr>\n",
       "      <th>urban</th>\n",
       "      <td>0.000071</td>\n",
       "      <td>0.006810</td>\n",
       "      <td>0.000000</td>\n",
       "      <td>0.235828</td>\n",
       "    </tr>\n",
       "    <tr>\n",
       "      <th>industry</th>\n",
       "      <td>-0.000046</td>\n",
       "      <td>-0.000184</td>\n",
       "      <td>-0.000000</td>\n",
       "      <td>-0.383946</td>\n",
       "    </tr>\n",
       "    <tr>\n",
       "      <th>ip</th>\n",
       "      <td>-0.000020</td>\n",
       "      <td>0.010021</td>\n",
       "      <td>0.000000</td>\n",
       "      <td>1.082780</td>\n",
       "    </tr>\n",
       "    <tr>\n",
       "      <th>tradeopeness</th>\n",
       "      <td>-0.000019</td>\n",
       "      <td>0.001669</td>\n",
       "      <td>0.000000</td>\n",
       "      <td>0.508889</td>\n",
       "    </tr>\n",
       "  </tbody>\n",
       "</table>\n",
       "</div>"
      ],
      "text/plain": [
       "                      coef_linreg  coef_ridge  coef_lasso  coef_elastic_net\n",
       "coverage_breadth        13.274266   13.262707   13.440514          7.170234\n",
       "usage_depth             14.170925   11.332335   12.528770          3.118966\n",
       "payment                  0.000156    0.008865    0.000000          0.635648\n",
       "insurance               -0.000649    0.484353    0.000000          2.488287\n",
       "monetary_fund           -0.000040    0.147474    0.000000          1.823712\n",
       "investment              -0.000426    0.762578    0.000000          3.225963\n",
       "credit                  -0.000989    1.321231    0.067689          3.157250\n",
       "credit_investigation    -0.000649    0.242229    0.000000          3.392936\n",
       "digitization_level       7.646285    7.599476    6.256401          3.707699\n",
       "flb                      0.000003   -0.002026    0.000000          0.000000\n",
       "gdp                      0.000013    0.006597    0.000000         -0.000000\n",
       "per_gdp                  0.000002    0.000069    0.000000          0.477951\n",
       "urban                    0.000071    0.006810    0.000000          0.235828\n",
       "industry                -0.000046   -0.000184   -0.000000         -0.383946\n",
       "ip                      -0.000020    0.010021    0.000000          1.082780\n",
       "tradeopeness            -0.000019    0.001669    0.000000          0.508889"
      ]
     },
     "execution_count": 94,
     "metadata": {},
     "output_type": "execute_result"
    }
   ],
   "source": [
    "X_train_transformed = x_train.copy()\n",
    "linreg = LinearRegression().fit(X_train_transformed, y_train)\n",
    "ridge = Ridge().fit(X_train_transformed, y_train)\n",
    "lasso = Lasso().fit(X_train_transformed, y_train)\n",
    "en = ElasticNet().fit(X_train_transformed, y_train)\n",
    "pd.DataFrame({\n",
    "    \"coef_linreg\": pd.Series(linreg.coef_, index = X_train_transformed.columns),\n",
    "    \"coef_ridge\": pd.Series(ridge.coef_, index = X_train_transformed.columns),\n",
    "    \"coef_lasso\": pd.Series(lasso.coef_, index= X_train_transformed.columns),\n",
    "    \"coef_elastic_net\": pd.Series(en.coef_, index=X_train_transformed.columns)\n",
    "})"
   ]
  },
  {
   "cell_type": "code",
   "execution_count": null,
   "metadata": {},
   "outputs": [],
   "source": []
  },
  {
   "cell_type": "code",
   "execution_count": null,
   "metadata": {},
   "outputs": [],
   "source": []
  },
  {
   "cell_type": "markdown",
   "metadata": {},
   "source": [
    "## Using Xgboost"
   ]
  },
  {
   "cell_type": "code",
   "execution_count": 26,
   "metadata": {},
   "outputs": [
    {
     "data": {
      "text/html": [
       "<div>\n",
       "<style scoped>\n",
       "    .dataframe tbody tr th:only-of-type {\n",
       "        vertical-align: middle;\n",
       "    }\n",
       "\n",
       "    .dataframe tbody tr th {\n",
       "        vertical-align: top;\n",
       "    }\n",
       "\n",
       "    .dataframe thead th {\n",
       "        text-align: right;\n",
       "    }\n",
       "</style>\n",
       "<table border=\"1\" class=\"dataframe\">\n",
       "  <thead>\n",
       "    <tr style=\"text-align: right;\">\n",
       "      <th></th>\n",
       "      <th>year</th>\n",
       "      <th>county_name</th>\n",
       "      <th>county_code_year14</th>\n",
       "      <th>prov_code</th>\n",
       "      <th>prov_name</th>\n",
       "      <th>pref_code</th>\n",
       "      <th>pref_name</th>\n",
       "      <th>index_aggregate</th>\n",
       "      <th>coverage_breadth</th>\n",
       "      <th>usage_depth</th>\n",
       "      <th>...</th>\n",
       "      <th>credit</th>\n",
       "      <th>credit_investigation</th>\n",
       "      <th>digitization_level</th>\n",
       "      <th>flb</th>\n",
       "      <th>gdp</th>\n",
       "      <th>per_gdp</th>\n",
       "      <th>urban</th>\n",
       "      <th>industry</th>\n",
       "      <th>ip</th>\n",
       "      <th>tradeopeness</th>\n",
       "    </tr>\n",
       "  </thead>\n",
       "  <tbody>\n",
       "    <tr>\n",
       "      <th>0</th>\n",
       "      <td>2014</td>\n",
       "      <td>万全县</td>\n",
       "      <td>130729</td>\n",
       "      <td>13</td>\n",
       "      <td>河北省</td>\n",
       "      <td>1307</td>\n",
       "      <td>张家口市</td>\n",
       "      <td>44.58</td>\n",
       "      <td>52.42</td>\n",
       "      <td>37.77</td>\n",
       "      <td>...</td>\n",
       "      <td>35.34</td>\n",
       "      <td>0.0</td>\n",
       "      <td>31.04</td>\n",
       "      <td>528889.0</td>\n",
       "      <td>634602.0</td>\n",
       "      <td>27323.0</td>\n",
       "      <td>0.214560</td>\n",
       "      <td>0.432618</td>\n",
       "      <td>0.064318</td>\n",
       "      <td>0.010522</td>\n",
       "    </tr>\n",
       "    <tr>\n",
       "      <th>1</th>\n",
       "      <td>2014</td>\n",
       "      <td>万安县</td>\n",
       "      <td>360828</td>\n",
       "      <td>36</td>\n",
       "      <td>江西省</td>\n",
       "      <td>3608</td>\n",
       "      <td>吉安市</td>\n",
       "      <td>44.39</td>\n",
       "      <td>33.21</td>\n",
       "      <td>78.26</td>\n",
       "      <td>...</td>\n",
       "      <td>85.27</td>\n",
       "      <td>0.0</td>\n",
       "      <td>19.80</td>\n",
       "      <td>341328.0</td>\n",
       "      <td>575617.0</td>\n",
       "      <td>27323.0</td>\n",
       "      <td>0.214560</td>\n",
       "      <td>0.361632</td>\n",
       "      <td>0.106057</td>\n",
       "      <td>0.031628</td>\n",
       "    </tr>\n",
       "    <tr>\n",
       "      <th>2</th>\n",
       "      <td>2014</td>\n",
       "      <td>万年县</td>\n",
       "      <td>361129</td>\n",
       "      <td>36</td>\n",
       "      <td>江西省</td>\n",
       "      <td>3611</td>\n",
       "      <td>上饶市</td>\n",
       "      <td>47.34</td>\n",
       "      <td>42.86</td>\n",
       "      <td>60.84</td>\n",
       "      <td>...</td>\n",
       "      <td>57.87</td>\n",
       "      <td>0.0</td>\n",
       "      <td>37.63</td>\n",
       "      <td>644512.0</td>\n",
       "      <td>1000000.0</td>\n",
       "      <td>27323.0</td>\n",
       "      <td>0.214560</td>\n",
       "      <td>0.361632</td>\n",
       "      <td>0.106057</td>\n",
       "      <td>0.031628</td>\n",
       "    </tr>\n",
       "    <tr>\n",
       "      <th>3</th>\n",
       "      <td>2014</td>\n",
       "      <td>万源市</td>\n",
       "      <td>511781</td>\n",
       "      <td>51</td>\n",
       "      <td>四川省</td>\n",
       "      <td>5117</td>\n",
       "      <td>达州市</td>\n",
       "      <td>41.67</td>\n",
       "      <td>46.64</td>\n",
       "      <td>41.19</td>\n",
       "      <td>...</td>\n",
       "      <td>45.24</td>\n",
       "      <td>0.0</td>\n",
       "      <td>26.13</td>\n",
       "      <td>574068.0</td>\n",
       "      <td>1200000.0</td>\n",
       "      <td>28395.0</td>\n",
       "      <td>0.561833</td>\n",
       "      <td>0.361632</td>\n",
       "      <td>0.078333</td>\n",
       "      <td>0.005540</td>\n",
       "    </tr>\n",
       "    <tr>\n",
       "      <th>4</th>\n",
       "      <td>2014</td>\n",
       "      <td>万荣县</td>\n",
       "      <td>140822</td>\n",
       "      <td>14</td>\n",
       "      <td>山西省</td>\n",
       "      <td>1408</td>\n",
       "      <td>运城市</td>\n",
       "      <td>45.07</td>\n",
       "      <td>48.69</td>\n",
       "      <td>44.57</td>\n",
       "      <td>...</td>\n",
       "      <td>62.17</td>\n",
       "      <td>0.0</td>\n",
       "      <td>34.01</td>\n",
       "      <td>359126.0</td>\n",
       "      <td>618199.0</td>\n",
       "      <td>13778.0</td>\n",
       "      <td>0.069839</td>\n",
       "      <td>0.361632</td>\n",
       "      <td>0.106057</td>\n",
       "      <td>0.031628</td>\n",
       "    </tr>\n",
       "  </tbody>\n",
       "</table>\n",
       "<p>5 rows × 24 columns</p>\n",
       "</div>"
      ],
      "text/plain": [
       "   year county_name  county_code_year14  prov_code prov_name  pref_code  \\\n",
       "0  2014         万全县              130729         13       河北省       1307   \n",
       "1  2014         万安县              360828         36       江西省       3608   \n",
       "2  2014         万年县              361129         36       江西省       3611   \n",
       "3  2014         万源市              511781         51       四川省       5117   \n",
       "4  2014         万荣县              140822         14       山西省       1408   \n",
       "\n",
       "  pref_name  index_aggregate  coverage_breadth  usage_depth  ...  credit  \\\n",
       "0      张家口市            44.58             52.42        37.77  ...   35.34   \n",
       "1       吉安市            44.39             33.21        78.26  ...   85.27   \n",
       "2       上饶市            47.34             42.86        60.84  ...   57.87   \n",
       "3       达州市            41.67             46.64        41.19  ...   45.24   \n",
       "4       运城市            45.07             48.69        44.57  ...   62.17   \n",
       "\n",
       "   credit_investigation  digitization_level       flb        gdp  per_gdp  \\\n",
       "0                   0.0               31.04  528889.0   634602.0  27323.0   \n",
       "1                   0.0               19.80  341328.0   575617.0  27323.0   \n",
       "2                   0.0               37.63  644512.0  1000000.0  27323.0   \n",
       "3                   0.0               26.13  574068.0  1200000.0  28395.0   \n",
       "4                   0.0               34.01  359126.0   618199.0  13778.0   \n",
       "\n",
       "      urban  industry        ip  tradeopeness  \n",
       "0  0.214560  0.432618  0.064318      0.010522  \n",
       "1  0.214560  0.361632  0.106057      0.031628  \n",
       "2  0.214560  0.361632  0.106057      0.031628  \n",
       "3  0.561833  0.361632  0.078333      0.005540  \n",
       "4  0.069839  0.361632  0.106057      0.031628  \n",
       "\n",
       "[5 rows x 24 columns]"
      ]
     },
     "execution_count": 26,
     "metadata": {},
     "output_type": "execute_result"
    }
   ],
   "source": [
    "df.head()"
   ]
  },
  {
   "cell_type": "code",
   "execution_count": 27,
   "metadata": {},
   "outputs": [],
   "source": [
    "ca_col = [x for x in df.columns if df.dtypes[x] == \"object\"]\n",
    "nu_col = [x for x in df.columns if df.dtypes[x] != \"object\"]"
   ]
  },
  {
   "cell_type": "code",
   "execution_count": 28,
   "metadata": {},
   "outputs": [
    {
     "data": {
      "text/plain": [
       "['county_name', 'prov_name', 'pref_name']"
      ]
     },
     "execution_count": 28,
     "metadata": {},
     "output_type": "execute_result"
    }
   ],
   "source": [
    "ca_col"
   ]
  },
  {
   "cell_type": "code",
   "execution_count": 29,
   "metadata": {},
   "outputs": [
    {
     "data": {
      "text/plain": [
       "['year',\n",
       " 'county_code_year14',\n",
       " 'prov_code',\n",
       " 'pref_code',\n",
       " 'index_aggregate',\n",
       " 'coverage_breadth',\n",
       " 'usage_depth',\n",
       " 'payment',\n",
       " 'insurance',\n",
       " 'monetary_fund',\n",
       " 'investment',\n",
       " 'credit',\n",
       " 'credit_investigation',\n",
       " 'digitization_level',\n",
       " 'flb',\n",
       " 'gdp',\n",
       " 'per_gdp',\n",
       " 'urban',\n",
       " 'industry',\n",
       " 'ip',\n",
       " 'tradeopeness']"
      ]
     },
     "execution_count": 29,
     "metadata": {},
     "output_type": "execute_result"
    }
   ],
   "source": [
    "nu_col"
   ]
  },
  {
   "cell_type": "code",
   "execution_count": 5,
   "metadata": {},
   "outputs": [
    {
     "data": {
      "text/plain": [
       "Index(['year', 'county_name', 'county_code_year14', 'prov_code', 'prov_name',\n",
       "       'pref_code', 'pref_name', 'index_aggregate', 'coverage_breadth',\n",
       "       'usage_depth', 'payment', 'insurance', 'monetary_fund', 'investment',\n",
       "       'credit', 'credit_investigation', 'digitization_level', 'flb', 'gdp',\n",
       "       'per_gdp', 'urban', 'industry', 'ip', 'tradeopeness'],\n",
       "      dtype='object')"
      ]
     },
     "execution_count": 5,
     "metadata": {},
     "output_type": "execute_result"
    }
   ],
   "source": [
    "df.columns"
   ]
  },
  {
   "cell_type": "code",
   "execution_count": 5,
   "metadata": {},
   "outputs": [],
   "source": [
    "y = df[\"index_aggregate\"]"
   ]
  },
  {
   "cell_type": "code",
   "execution_count": 6,
   "metadata": {},
   "outputs": [],
   "source": [
    "X = df[[\n",
    "#     'coverage_breadth',\n",
    "#        'usage_depth', 'payment', 'insurance', 'monetary_fund', 'investment',\n",
    "#        'credit', 'credit_investigation', \n",
    "#         'digitization_level', \n",
    "        'flb', 'gdp',\n",
    "       'per_gdp', 'urban', 'industry', 'ip', 'tradeopeness']]\n"
   ]
  },
  {
   "cell_type": "code",
   "execution_count": 7,
   "metadata": {},
   "outputs": [
    {
     "data": {
      "text/html": [
       "<div>\n",
       "<style scoped>\n",
       "    .dataframe tbody tr th:only-of-type {\n",
       "        vertical-align: middle;\n",
       "    }\n",
       "\n",
       "    .dataframe tbody tr th {\n",
       "        vertical-align: top;\n",
       "    }\n",
       "\n",
       "    .dataframe thead th {\n",
       "        text-align: right;\n",
       "    }\n",
       "</style>\n",
       "<table border=\"1\" class=\"dataframe\">\n",
       "  <thead>\n",
       "    <tr style=\"text-align: right;\">\n",
       "      <th></th>\n",
       "      <th>flb</th>\n",
       "      <th>gdp</th>\n",
       "      <th>per_gdp</th>\n",
       "      <th>urban</th>\n",
       "      <th>industry</th>\n",
       "      <th>ip</th>\n",
       "      <th>tradeopeness</th>\n",
       "    </tr>\n",
       "  </thead>\n",
       "  <tbody>\n",
       "    <tr>\n",
       "      <th>0</th>\n",
       "      <td>528889.0</td>\n",
       "      <td>634602.0</td>\n",
       "      <td>27323.0</td>\n",
       "      <td>0.214560</td>\n",
       "      <td>0.432618</td>\n",
       "      <td>0.064318</td>\n",
       "      <td>0.010522</td>\n",
       "    </tr>\n",
       "    <tr>\n",
       "      <th>1</th>\n",
       "      <td>341328.0</td>\n",
       "      <td>575617.0</td>\n",
       "      <td>27323.0</td>\n",
       "      <td>0.214560</td>\n",
       "      <td>0.361632</td>\n",
       "      <td>0.106057</td>\n",
       "      <td>0.031628</td>\n",
       "    </tr>\n",
       "    <tr>\n",
       "      <th>2</th>\n",
       "      <td>644512.0</td>\n",
       "      <td>1000000.0</td>\n",
       "      <td>27323.0</td>\n",
       "      <td>0.214560</td>\n",
       "      <td>0.361632</td>\n",
       "      <td>0.106057</td>\n",
       "      <td>0.031628</td>\n",
       "    </tr>\n",
       "    <tr>\n",
       "      <th>3</th>\n",
       "      <td>574068.0</td>\n",
       "      <td>1200000.0</td>\n",
       "      <td>28395.0</td>\n",
       "      <td>0.561833</td>\n",
       "      <td>0.361632</td>\n",
       "      <td>0.078333</td>\n",
       "      <td>0.005540</td>\n",
       "    </tr>\n",
       "    <tr>\n",
       "      <th>4</th>\n",
       "      <td>359126.0</td>\n",
       "      <td>618199.0</td>\n",
       "      <td>13778.0</td>\n",
       "      <td>0.069839</td>\n",
       "      <td>0.361632</td>\n",
       "      <td>0.106057</td>\n",
       "      <td>0.031628</td>\n",
       "    </tr>\n",
       "  </tbody>\n",
       "</table>\n",
       "</div>"
      ],
      "text/plain": [
       "        flb        gdp  per_gdp     urban  industry        ip  tradeopeness\n",
       "0  528889.0   634602.0  27323.0  0.214560  0.432618  0.064318      0.010522\n",
       "1  341328.0   575617.0  27323.0  0.214560  0.361632  0.106057      0.031628\n",
       "2  644512.0  1000000.0  27323.0  0.214560  0.361632  0.106057      0.031628\n",
       "3  574068.0  1200000.0  28395.0  0.561833  0.361632  0.078333      0.005540\n",
       "4  359126.0   618199.0  13778.0  0.069839  0.361632  0.106057      0.031628"
      ]
     },
     "execution_count": 7,
     "metadata": {},
     "output_type": "execute_result"
    }
   ],
   "source": [
    "X.head()"
   ]
  },
  {
   "cell_type": "code",
   "execution_count": 60,
   "metadata": {},
   "outputs": [],
   "source": [
    "from sklearn.preprocessing import MinMaxScaler\n",
    "from sklearn.preprocessing import RobustScaler\n",
    "from sklearn.preprocessing import StandardScaler\n",
    "X = MinMaxScaler().fit_transform(X)\n",
    "X = pd.DataFrame(X, columns = [\n",
    "#        'coverage_breadth',\n",
    "#        'usage_depth', 'payment', 'insurance', 'monetary_fund', 'investment',\n",
    "#        'credit', 'credit_investigation','digitization_level', \n",
    "        'flb', 'gdp',\n",
    "       'per_gdp', 'urban', 'industry', 'ip', 'tradeopeness'])"
   ]
  },
  {
   "cell_type": "code",
   "execution_count": 16,
   "metadata": {},
   "outputs": [],
   "source": [
    "import xgboost as xgb\n",
    "from sklearn.metrics import mean_squared_error\n",
    "import pandas as pd\n",
    "import numpy as np"
   ]
  },
  {
   "cell_type": "code",
   "execution_count": 62,
   "metadata": {},
   "outputs": [],
   "source": [
    "data_dmatrix = xgb.DMatrix(data=X,label=y)"
   ]
  },
  {
   "cell_type": "code",
   "execution_count": 63,
   "metadata": {},
   "outputs": [],
   "source": [
    "from sklearn.model_selection import train_test_split\n",
    "\n",
    "X_train, X_test, y_train, y_test = train_test_split(X, y, test_size=0.2, random_state=1)"
   ]
  },
  {
   "cell_type": "code",
   "execution_count": 64,
   "metadata": {},
   "outputs": [],
   "source": [
    "xg_reg = xgb.XGBRegressor(objective ='reg:linear', colsample_bytree = 0.3, learning_rate = 0.1,\n",
    "                max_depth = 5, alpha = 10, n_estimators = 10)"
   ]
  },
  {
   "cell_type": "code",
   "execution_count": 65,
   "metadata": {},
   "outputs": [
    {
     "name": "stdout",
     "output_type": "stream",
     "text": [
      "[17:19:15] WARNING: /Users/travis/build/dmlc/xgboost/src/objective/regression_obj.cu:170: reg:linear is now deprecated in favor of reg:squarederror.\n",
      "[17:19:15] WARNING: /Users/travis/build/dmlc/xgboost/src/objective/regression_obj.cu:170: reg:linear is now deprecated in favor of reg:squarederror.\n"
     ]
    }
   ],
   "source": [
    "xg_reg.fit(X_train,y_train)\n",
    "\n",
    "preds = xg_reg.predict(X_test)"
   ]
  },
  {
   "cell_type": "code",
   "execution_count": 66,
   "metadata": {},
   "outputs": [
    {
     "name": "stdout",
     "output_type": "stream",
     "text": [
      "RMSE: 31.655126\n"
     ]
    }
   ],
   "source": [
    "rmse = np.sqrt(mean_squared_error(y_test, preds))\n",
    "print(\"RMSE: %f\" % (rmse))"
   ]
  },
  {
   "cell_type": "code",
   "execution_count": 67,
   "metadata": {},
   "outputs": [
    {
     "name": "stdout",
     "output_type": "stream",
     "text": [
      "[17:19:16] WARNING: /Users/travis/build/dmlc/xgboost/src/objective/regression_obj.cu:170: reg:linear is now deprecated in favor of reg:squarederror.\n",
      "[17:19:16] WARNING: /Users/travis/build/dmlc/xgboost/src/objective/regression_obj.cu:170: reg:linear is now deprecated in favor of reg:squarederror.\n",
      "[17:19:16] WARNING: /Users/travis/build/dmlc/xgboost/src/objective/regression_obj.cu:170: reg:linear is now deprecated in favor of reg:squarederror.\n"
     ]
    }
   ],
   "source": [
    "params = {\"objective\":\"reg:linear\",'colsample_bytree': 0.3,'learning_rate': 0.1,\n",
    "                'max_depth': 5, 'alpha': 10}\n",
    "\n",
    "cv_results = xgb.cv(dtrain=data_dmatrix, params=params, nfold=3,\n",
    "                    num_boost_round=50,early_stopping_rounds=10,metrics=\"rmse\", as_pandas=True, seed=123)"
   ]
  },
  {
   "cell_type": "code",
   "execution_count": 68,
   "metadata": {},
   "outputs": [
    {
     "data": {
      "text/html": [
       "<div>\n",
       "<style scoped>\n",
       "    .dataframe tbody tr th:only-of-type {\n",
       "        vertical-align: middle;\n",
       "    }\n",
       "\n",
       "    .dataframe tbody tr th {\n",
       "        vertical-align: top;\n",
       "    }\n",
       "\n",
       "    .dataframe thead th {\n",
       "        text-align: right;\n",
       "    }\n",
       "</style>\n",
       "<table border=\"1\" class=\"dataframe\">\n",
       "  <thead>\n",
       "    <tr style=\"text-align: right;\">\n",
       "      <th></th>\n",
       "      <th>train-rmse-mean</th>\n",
       "      <th>train-rmse-std</th>\n",
       "      <th>test-rmse-mean</th>\n",
       "      <th>test-rmse-std</th>\n",
       "    </tr>\n",
       "  </thead>\n",
       "  <tbody>\n",
       "    <tr>\n",
       "      <th>45</th>\n",
       "      <td>7.591440</td>\n",
       "      <td>0.060999</td>\n",
       "      <td>8.385401</td>\n",
       "      <td>0.150034</td>\n",
       "    </tr>\n",
       "    <tr>\n",
       "      <th>46</th>\n",
       "      <td>7.548145</td>\n",
       "      <td>0.053075</td>\n",
       "      <td>8.353617</td>\n",
       "      <td>0.160480</td>\n",
       "    </tr>\n",
       "    <tr>\n",
       "      <th>47</th>\n",
       "      <td>7.523335</td>\n",
       "      <td>0.041237</td>\n",
       "      <td>8.334864</td>\n",
       "      <td>0.171568</td>\n",
       "    </tr>\n",
       "    <tr>\n",
       "      <th>48</th>\n",
       "      <td>7.492764</td>\n",
       "      <td>0.033727</td>\n",
       "      <td>8.318443</td>\n",
       "      <td>0.178021</td>\n",
       "    </tr>\n",
       "    <tr>\n",
       "      <th>49</th>\n",
       "      <td>7.458482</td>\n",
       "      <td>0.022321</td>\n",
       "      <td>8.300572</td>\n",
       "      <td>0.183648</td>\n",
       "    </tr>\n",
       "  </tbody>\n",
       "</table>\n",
       "</div>"
      ],
      "text/plain": [
       "    train-rmse-mean  train-rmse-std  test-rmse-mean  test-rmse-std\n",
       "45         7.591440        0.060999        8.385401       0.150034\n",
       "46         7.548145        0.053075        8.353617       0.160480\n",
       "47         7.523335        0.041237        8.334864       0.171568\n",
       "48         7.492764        0.033727        8.318443       0.178021\n",
       "49         7.458482        0.022321        8.300572       0.183648"
      ]
     },
     "execution_count": 68,
     "metadata": {},
     "output_type": "execute_result"
    }
   ],
   "source": [
    "cv_results.tail()"
   ]
  },
  {
   "cell_type": "code",
   "execution_count": 69,
   "metadata": {},
   "outputs": [
    {
     "data": {
      "text/plain": [
       "49    8.300572\n",
       "Name: test-rmse-mean, dtype: float64"
      ]
     },
     "execution_count": 69,
     "metadata": {},
     "output_type": "execute_result"
    }
   ],
   "source": [
    "(cv_results[\"test-rmse-mean\"]).tail(1)"
   ]
  },
  {
   "cell_type": "code",
   "execution_count": 70,
   "metadata": {},
   "outputs": [
    {
     "name": "stdout",
     "output_type": "stream",
     "text": [
      "[17:19:19] WARNING: /Users/travis/build/dmlc/xgboost/src/objective/regression_obj.cu:170: reg:linear is now deprecated in favor of reg:squarederror.\n",
      "[17:19:19] WARNING: /Users/travis/build/dmlc/xgboost/src/objective/regression_obj.cu:170: reg:linear is now deprecated in favor of reg:squarederror.\n"
     ]
    }
   ],
   "source": [
    "xg_reg = xgb.train(params=params, dtrain=data_dmatrix, num_boost_round=10)"
   ]
  },
  {
   "cell_type": "code",
   "execution_count": 71,
   "metadata": {},
   "outputs": [
    {
     "data": {
      "image/png": "[encoded data removed]",
      "text/plain": [
       "<Figure size 360x360 with 1 Axes>"
      ]
     },
     "metadata": {
      "needs_background": "light"
     },
     "output_type": "display_data"
    }
   ],
   "source": [
    "import matplotlib.pyplot as plt\n",
    "\n",
    "xgb.plot_tree(xg_reg,num_trees=0)\n",
    "plt.rcParams['figure.figsize'] = [8, 8]\n",
    "plt.show()"
   ]
  },
  {
   "cell_type": "code",
   "execution_count": 72,
   "metadata": {},
   "outputs": [
    {
     "data": {
      "image/png": "[encoded data removed]",
      "text/plain": [
       "<Figure size 576x576 with 1 Axes>"
      ]
     },
     "metadata": {
      "needs_background": "light"
     },
     "output_type": "display_data"
    }
   ],
   "source": [
    "xgb.plot_importance(xg_reg)\n",
    "plt.rcParams['figure.figsize'] = [5, 5]\n",
    "plt.savefig('featureimportance.png')\n",
    "plt.show()"
   ]
  },
  {
   "cell_type": "code",
   "execution_count": null,
   "metadata": {},
   "outputs": [],
   "source": []
  },
  {
   "cell_type": "code",
   "execution_count": 73,
   "metadata": {},
   "outputs": [],
   "source": [
    "# import matplotlib\n",
    "# print(matplotlib.matplotlib_fname())"
   ]
  },
  {
   "cell_type": "code",
   "execution_count": 74,
   "metadata": {},
   "outputs": [],
   "source": [
    "# import matplotlib.font_manager\n",
    "# matplotlib.font_manager._rebuild()"
   ]
  },
  {
   "cell_type": "code",
   "execution_count": 75,
   "metadata": {},
   "outputs": [],
   "source": [
    "# [f for f in matplotlib.font_manager.fontManager.ttflist if 'Heiti' in f.name]"
   ]
  },
  {
   "cell_type": "code",
   "execution_count": null,
   "metadata": {},
   "outputs": [],
   "source": []
  },
  {
   "cell_type": "markdown",
   "metadata": {},
   "source": [
    "## Using Random Forest"
   ]
  },
  {
   "cell_type": "code",
   "execution_count": 19,
   "metadata": {},
   "outputs": [
    {
     "name": "stderr",
     "output_type": "stream",
     "text": [
      "/Users/katie/.pyenv/versions/3.7.7/envs/lewagon/lib/python3.7/site-packages/sklearn/ensemble/forest.py:246: FutureWarning: The default value of n_estimators will change from 10 in version 0.20 to 100 in 0.22.\n",
      "  \"10 in version 0.20 to 100 in 0.22.\", FutureWarning)\n"
     ]
    },
    {
     "name": "stdout",
     "output_type": "stream",
     "text": [
      "Features sorted by their importances:\n",
      "[(0.6235, 'ip'), (0.1194, 'per_gdp'), (0.0905, 'tradeopeness'), (0.0559, 'flb'), (0.0502, 'urban'), (0.0333, 'industry'), (0.0272, 'gdp')]\n"
     ]
    }
   ],
   "source": [
    "from sklearn.ensemble import RandomForestRegressor\n",
    "import numpy as np\n",
    "#Load boston housing dataset as an example\n",
    "\n",
    "rf = RandomForestRegressor()\n",
    "rf.fit(X, y)\n",
    "print( \"Features sorted by their importances:\")\n",
    "print(sorted(zip(map(lambda x: round(x, 4), rf.feature_importances_), X.columns), \n",
    "             reverse=True))"
   ]
  },
  {
   "cell_type": "code",
   "execution_count": 20,
   "metadata": {},
   "outputs": [
    {
     "data": {
      "text/plain": [
       "0.9784965613617655"
      ]
     },
     "execution_count": 20,
     "metadata": {},
     "output_type": "execute_result"
    }
   ],
   "source": [
    "rf.score(X,y)"
   ]
  },
  {
   "cell_type": "code",
   "execution_count": 21,
   "metadata": {},
   "outputs": [],
   "source": [
    "importance_list = sorted(zip(map(lambda x: round(x, 4), rf.feature_importances_), X.columns), \n",
    "             reverse=True)"
   ]
  },
  {
   "cell_type": "code",
   "execution_count": 22,
   "metadata": {},
   "outputs": [
    {
     "data": {
      "text/plain": [
       "[(0.6235, 'ip'),\n",
       " (0.1194, 'per_gdp'),\n",
       " (0.0905, 'tradeopeness'),\n",
       " (0.0559, 'flb'),\n",
       " (0.0502, 'urban'),\n",
       " (0.0333, 'industry'),\n",
       " (0.0272, 'gdp')]"
      ]
     },
     "execution_count": 22,
     "metadata": {},
     "output_type": "execute_result"
    }
   ],
   "source": [
    "importance_list"
   ]
  },
  {
   "cell_type": "code",
   "execution_count": 12,
   "metadata": {},
   "outputs": [],
   "source": [
    "imps = pd.DataFrame(importance_list,columns=[\"Importance\",\"Features\"])"
   ]
  },
  {
   "cell_type": "code",
   "execution_count": 13,
   "metadata": {},
   "outputs": [
    {
     "data": {
      "text/html": [
       "<div>\n",
       "<style scoped>\n",
       "    .dataframe tbody tr th:only-of-type {\n",
       "        vertical-align: middle;\n",
       "    }\n",
       "\n",
       "    .dataframe tbody tr th {\n",
       "        vertical-align: top;\n",
       "    }\n",
       "\n",
       "    .dataframe thead th {\n",
       "        text-align: right;\n",
       "    }\n",
       "</style>\n",
       "<table border=\"1\" class=\"dataframe\">\n",
       "  <thead>\n",
       "    <tr style=\"text-align: right;\">\n",
       "      <th></th>\n",
       "      <th>Importance</th>\n",
       "      <th>Features</th>\n",
       "    </tr>\n",
       "  </thead>\n",
       "  <tbody>\n",
       "    <tr>\n",
       "      <th>0</th>\n",
       "      <td>0.6050</td>\n",
       "      <td>ip</td>\n",
       "    </tr>\n",
       "    <tr>\n",
       "      <th>1</th>\n",
       "      <td>0.1231</td>\n",
       "      <td>per_gdp</td>\n",
       "    </tr>\n",
       "    <tr>\n",
       "      <th>2</th>\n",
       "      <td>0.1113</td>\n",
       "      <td>tradeopeness</td>\n",
       "    </tr>\n",
       "    <tr>\n",
       "      <th>3</th>\n",
       "      <td>0.0582</td>\n",
       "      <td>flb</td>\n",
       "    </tr>\n",
       "    <tr>\n",
       "      <th>4</th>\n",
       "      <td>0.0441</td>\n",
       "      <td>urban</td>\n",
       "    </tr>\n",
       "    <tr>\n",
       "      <th>5</th>\n",
       "      <td>0.0299</td>\n",
       "      <td>industry</td>\n",
       "    </tr>\n",
       "    <tr>\n",
       "      <th>6</th>\n",
       "      <td>0.0284</td>\n",
       "      <td>gdp</td>\n",
       "    </tr>\n",
       "  </tbody>\n",
       "</table>\n",
       "</div>"
      ],
      "text/plain": [
       "   Importance      Features\n",
       "0      0.6050            ip\n",
       "1      0.1231       per_gdp\n",
       "2      0.1113  tradeopeness\n",
       "3      0.0582           flb\n",
       "4      0.0441         urban\n",
       "5      0.0299      industry\n",
       "6      0.0284           gdp"
      ]
     },
     "execution_count": 13,
     "metadata": {},
     "output_type": "execute_result"
    }
   ],
   "source": [
    "imps"
   ]
  },
  {
   "cell_type": "code",
   "execution_count": 14,
   "metadata": {},
   "outputs": [
    {
     "data": {
      "text/plain": [
       "<AxesSubplot:xlabel='Importance', ylabel='Features'>"
      ]
     },
     "execution_count": 14,
     "metadata": {},
     "output_type": "execute_result"
    },
    {
     "data": {
      "image/png": "[encoded data removed]",
      "text/plain": [
       "<Figure size 576x576 with 1 Axes>"
      ]
     },
     "metadata": {
      "needs_background": "light"
     },
     "output_type": "display_data"
    }
   ],
   "source": [
    "plt.rcParams['figure.figsize'] = [8, 8]\n",
    "sns.barplot(x=\"Importance\", y=\"Features\", data=imps,color=\"steelblue\")\n"
   ]
  },
  {
   "cell_type": "code",
   "execution_count": 17,
   "metadata": {},
   "outputs": [
    {
     "name": "stderr",
     "output_type": "stream",
     "text": [
      "/Users/katie/.pyenv/versions/3.7.7/envs/lewagon/lib/python3.7/site-packages/sklearn/ensemble/forest.py:246: FutureWarning: The default value of n_estimators will change from 10 in version 0.20 to 100 in 0.22.\n",
      "  \"10 in version 0.20 to 100 in 0.22.\", FutureWarning)\n"
     ]
    },
    {
     "name": "stdout",
     "output_type": "stream",
     "text": [
      "RMSE: 8.864472\n"
     ]
    }
   ],
   "source": [
    "from sklearn.model_selection import train_test_split\n",
    "\n",
    "X_train, X_test, y_train, y_test = train_test_split(X, y, test_size=0.2, random_state=1)\n",
    "\n",
    "rf_model = RandomForestRegressor()\n",
    "rf_model.fit(X_train,y_train)\n",
    "\n",
    "preds = rf_model.predict(X_test)\n",
    "\n",
    "rmse = np.sqrt(mean_squared_error(y_test, preds))\n",
    "print(\"RMSE: %f\" % (rmse))"
   ]
  },
  {
   "cell_type": "markdown",
   "metadata": {},
   "source": [
    "## plot random forest Tree"
   ]
  },
  {
   "cell_type": "code",
   "execution_count": 28,
   "metadata": {},
   "outputs": [
    {
     "data": {
      "text/plain": [
       "0"
      ]
     },
     "execution_count": 28,
     "metadata": {},
     "output_type": "execute_result"
    }
   ],
   "source": [
    "from sklearn.tree import export_graphviz\n",
    "export_graphviz(rf.estimators_[0],\n",
    "                out_file='tree.dot',\n",
    "                feature_names=X.columns,\n",
    "                filled=True,\n",
    "                rounded=True)\n",
    "import os\n",
    "os.system('dot -Tpng tree.dot -o tree.png')"
   ]
  },
  {
   "cell_type": "code",
   "execution_count": null,
   "metadata": {},
   "outputs": [],
   "source": [
    "fn=X.columns\n",
    "cn=data.target_names\n",
    "fig, axes = plt.subplots(nrows = 1,ncols = 1,figsize = (4,4), dpi=800)\n",
    "tree.plot_tree(rf.estimators_[0],\n",
    "               feature_names = fn, \n",
    "               class_names=cn,\n",
    "               filled = True);\n",
    "fig.savefig('rf_individualtree.png')"
   ]
  },
  {
   "cell_type": "code",
   "execution_count": null,
   "metadata": {},
   "outputs": [],
   "source": []
  },
  {
   "cell_type": "code",
   "execution_count": null,
   "metadata": {},
   "outputs": [],
   "source": []
  },
  {
   "cell_type": "code",
   "execution_count": 18,
   "metadata": {},
   "outputs": [
    {
     "data": {
      "text/html": [
       "<div>\n",
       "<style scoped>\n",
       "    .dataframe tbody tr th:only-of-type {\n",
       "        vertical-align: middle;\n",
       "    }\n",
       "\n",
       "    .dataframe tbody tr th {\n",
       "        vertical-align: top;\n",
       "    }\n",
       "\n",
       "    .dataframe thead th {\n",
       "        text-align: right;\n",
       "    }\n",
       "</style>\n",
       "<table border=\"1\" class=\"dataframe\">\n",
       "  <thead>\n",
       "    <tr style=\"text-align: right;\">\n",
       "      <th></th>\n",
       "      <th>year</th>\n",
       "      <th>county_name</th>\n",
       "      <th>county_code_year14</th>\n",
       "      <th>prov_code</th>\n",
       "      <th>prov_name</th>\n",
       "      <th>pref_code</th>\n",
       "      <th>pref_name</th>\n",
       "      <th>index_aggregate</th>\n",
       "      <th>coverage_breadth</th>\n",
       "      <th>usage_depth</th>\n",
       "      <th>...</th>\n",
       "      <th>credit</th>\n",
       "      <th>credit_investigation</th>\n",
       "      <th>digitization_level</th>\n",
       "      <th>flb</th>\n",
       "      <th>gdp</th>\n",
       "      <th>per_gdp</th>\n",
       "      <th>urban</th>\n",
       "      <th>industry</th>\n",
       "      <th>ip</th>\n",
       "      <th>tradeopeness</th>\n",
       "    </tr>\n",
       "  </thead>\n",
       "  <tbody>\n",
       "    <tr>\n",
       "      <th>0</th>\n",
       "      <td>2014</td>\n",
       "      <td>万全县</td>\n",
       "      <td>130729</td>\n",
       "      <td>13</td>\n",
       "      <td>河北省</td>\n",
       "      <td>1307</td>\n",
       "      <td>张家口市</td>\n",
       "      <td>44.58</td>\n",
       "      <td>52.42</td>\n",
       "      <td>37.77</td>\n",
       "      <td>...</td>\n",
       "      <td>35.34</td>\n",
       "      <td>0.0</td>\n",
       "      <td>31.04</td>\n",
       "      <td>528889.0</td>\n",
       "      <td>634602.0</td>\n",
       "      <td>27323.0</td>\n",
       "      <td>0.214560</td>\n",
       "      <td>0.432618</td>\n",
       "      <td>0.064318</td>\n",
       "      <td>0.010522</td>\n",
       "    </tr>\n",
       "    <tr>\n",
       "      <th>1</th>\n",
       "      <td>2014</td>\n",
       "      <td>万安县</td>\n",
       "      <td>360828</td>\n",
       "      <td>36</td>\n",
       "      <td>江西省</td>\n",
       "      <td>3608</td>\n",
       "      <td>吉安市</td>\n",
       "      <td>44.39</td>\n",
       "      <td>33.21</td>\n",
       "      <td>78.26</td>\n",
       "      <td>...</td>\n",
       "      <td>85.27</td>\n",
       "      <td>0.0</td>\n",
       "      <td>19.80</td>\n",
       "      <td>341328.0</td>\n",
       "      <td>575617.0</td>\n",
       "      <td>27323.0</td>\n",
       "      <td>0.214560</td>\n",
       "      <td>0.361632</td>\n",
       "      <td>0.106057</td>\n",
       "      <td>0.031628</td>\n",
       "    </tr>\n",
       "    <tr>\n",
       "      <th>2</th>\n",
       "      <td>2014</td>\n",
       "      <td>万年县</td>\n",
       "      <td>361129</td>\n",
       "      <td>36</td>\n",
       "      <td>江西省</td>\n",
       "      <td>3611</td>\n",
       "      <td>上饶市</td>\n",
       "      <td>47.34</td>\n",
       "      <td>42.86</td>\n",
       "      <td>60.84</td>\n",
       "      <td>...</td>\n",
       "      <td>57.87</td>\n",
       "      <td>0.0</td>\n",
       "      <td>37.63</td>\n",
       "      <td>644512.0</td>\n",
       "      <td>1000000.0</td>\n",
       "      <td>27323.0</td>\n",
       "      <td>0.214560</td>\n",
       "      <td>0.361632</td>\n",
       "      <td>0.106057</td>\n",
       "      <td>0.031628</td>\n",
       "    </tr>\n",
       "    <tr>\n",
       "      <th>3</th>\n",
       "      <td>2014</td>\n",
       "      <td>万源市</td>\n",
       "      <td>511781</td>\n",
       "      <td>51</td>\n",
       "      <td>四川省</td>\n",
       "      <td>5117</td>\n",
       "      <td>达州市</td>\n",
       "      <td>41.67</td>\n",
       "      <td>46.64</td>\n",
       "      <td>41.19</td>\n",
       "      <td>...</td>\n",
       "      <td>45.24</td>\n",
       "      <td>0.0</td>\n",
       "      <td>26.13</td>\n",
       "      <td>574068.0</td>\n",
       "      <td>1200000.0</td>\n",
       "      <td>28395.0</td>\n",
       "      <td>0.561833</td>\n",
       "      <td>0.361632</td>\n",
       "      <td>0.078333</td>\n",
       "      <td>0.005540</td>\n",
       "    </tr>\n",
       "    <tr>\n",
       "      <th>4</th>\n",
       "      <td>2014</td>\n",
       "      <td>万荣县</td>\n",
       "      <td>140822</td>\n",
       "      <td>14</td>\n",
       "      <td>山西省</td>\n",
       "      <td>1408</td>\n",
       "      <td>运城市</td>\n",
       "      <td>45.07</td>\n",
       "      <td>48.69</td>\n",
       "      <td>44.57</td>\n",
       "      <td>...</td>\n",
       "      <td>62.17</td>\n",
       "      <td>0.0</td>\n",
       "      <td>34.01</td>\n",
       "      <td>359126.0</td>\n",
       "      <td>618199.0</td>\n",
       "      <td>13778.0</td>\n",
       "      <td>0.069839</td>\n",
       "      <td>0.361632</td>\n",
       "      <td>0.106057</td>\n",
       "      <td>0.031628</td>\n",
       "    </tr>\n",
       "  </tbody>\n",
       "</table>\n",
       "<p>5 rows × 24 columns</p>\n",
       "</div>"
      ],
      "text/plain": [
       "   year county_name  county_code_year14  prov_code prov_name  pref_code  \\\n",
       "0  2014         万全县              130729         13       河北省       1307   \n",
       "1  2014         万安县              360828         36       江西省       3608   \n",
       "2  2014         万年县              361129         36       江西省       3611   \n",
       "3  2014         万源市              511781         51       四川省       5117   \n",
       "4  2014         万荣县              140822         14       山西省       1408   \n",
       "\n",
       "  pref_name  index_aggregate  coverage_breadth  usage_depth  ...  credit  \\\n",
       "0      张家口市            44.58             52.42        37.77  ...   35.34   \n",
       "1       吉安市            44.39             33.21        78.26  ...   85.27   \n",
       "2       上饶市            47.34             42.86        60.84  ...   57.87   \n",
       "3       达州市            41.67             46.64        41.19  ...   45.24   \n",
       "4       运城市            45.07             48.69        44.57  ...   62.17   \n",
       "\n",
       "   credit_investigation  digitization_level       flb        gdp  per_gdp  \\\n",
       "0                   0.0               31.04  528889.0   634602.0  27323.0   \n",
       "1                   0.0               19.80  341328.0   575617.0  27323.0   \n",
       "2                   0.0               37.63  644512.0  1000000.0  27323.0   \n",
       "3                   0.0               26.13  574068.0  1200000.0  28395.0   \n",
       "4                   0.0               34.01  359126.0   618199.0  13778.0   \n",
       "\n",
       "      urban  industry        ip  tradeopeness  \n",
       "0  0.214560  0.432618  0.064318      0.010522  \n",
       "1  0.214560  0.361632  0.106057      0.031628  \n",
       "2  0.214560  0.361632  0.106057      0.031628  \n",
       "3  0.561833  0.361632  0.078333      0.005540  \n",
       "4  0.069839  0.361632  0.106057      0.031628  \n",
       "\n",
       "[5 rows x 24 columns]"
      ]
     },
     "execution_count": 18,
     "metadata": {},
     "output_type": "execute_result"
    }
   ],
   "source": [
    "df.head()"
   ]
  },
  {
   "cell_type": "code",
   "execution_count": 121,
   "metadata": {},
   "outputs": [],
   "source": [
    "df_2014 = df[df.year==2014][[\"county_code_year14\",\"index_aggregate\"]]\n",
    "df_2018 = df[df.year==2018][[\"county_code_year14\",\"county_name\",\"prov_name\",\"pref_name\",\"index_aggregate\"]]"
   ]
  },
  {
   "cell_type": "code",
   "execution_count": 122,
   "metadata": {},
   "outputs": [],
   "source": [
    "df_2014.rename(columns={\"index_aggregate\":\"index_2014\"}, inplace=True)\n",
    "df_2018.rename(columns={\"index_aggregate\":\"index_2018\"}, inplace=True)"
   ]
  },
  {
   "cell_type": "code",
   "execution_count": 123,
   "metadata": {},
   "outputs": [
    {
     "data": {
      "text/html": [
       "<div>\n",
       "<style scoped>\n",
       "    .dataframe tbody tr th:only-of-type {\n",
       "        vertical-align: middle;\n",
       "    }\n",
       "\n",
       "    .dataframe tbody tr th {\n",
       "        vertical-align: top;\n",
       "    }\n",
       "\n",
       "    .dataframe thead th {\n",
       "        text-align: right;\n",
       "    }\n",
       "</style>\n",
       "<table border=\"1\" class=\"dataframe\">\n",
       "  <thead>\n",
       "    <tr style=\"text-align: right;\">\n",
       "      <th></th>\n",
       "      <th>county_code_year14</th>\n",
       "      <th>county_name</th>\n",
       "      <th>prov_name</th>\n",
       "      <th>pref_name</th>\n",
       "      <th>index_2018</th>\n",
       "    </tr>\n",
       "  </thead>\n",
       "  <tbody>\n",
       "    <tr>\n",
       "      <th>7222</th>\n",
       "      <td>130729</td>\n",
       "      <td>万全县</td>\n",
       "      <td>河北省</td>\n",
       "      <td>张家口市</td>\n",
       "      <td>100.18</td>\n",
       "    </tr>\n",
       "    <tr>\n",
       "      <th>7223</th>\n",
       "      <td>469006</td>\n",
       "      <td>万宁市</td>\n",
       "      <td>海南省</td>\n",
       "      <td>省直辖县市</td>\n",
       "      <td>108.74</td>\n",
       "    </tr>\n",
       "    <tr>\n",
       "      <th>7224</th>\n",
       "      <td>360828</td>\n",
       "      <td>万安县</td>\n",
       "      <td>江西省</td>\n",
       "      <td>吉安市</td>\n",
       "      <td>102.02</td>\n",
       "    </tr>\n",
       "    <tr>\n",
       "      <th>7225</th>\n",
       "      <td>361129</td>\n",
       "      <td>万年县</td>\n",
       "      <td>江西省</td>\n",
       "      <td>上饶市</td>\n",
       "      <td>104.65</td>\n",
       "    </tr>\n",
       "    <tr>\n",
       "      <th>7226</th>\n",
       "      <td>511781</td>\n",
       "      <td>万源市</td>\n",
       "      <td>四川省</td>\n",
       "      <td>达州市</td>\n",
       "      <td>100.01</td>\n",
       "    </tr>\n",
       "  </tbody>\n",
       "</table>\n",
       "</div>"
      ],
      "text/plain": [
       "      county_code_year14 county_name prov_name pref_name  index_2018\n",
       "7222              130729         万全县       河北省      张家口市      100.18\n",
       "7223              469006         万宁市       海南省     省直辖县市      108.74\n",
       "7224              360828         万安县       江西省       吉安市      102.02\n",
       "7225              361129         万年县       江西省       上饶市      104.65\n",
       "7226              511781         万源市       四川省       达州市      100.01"
      ]
     },
     "execution_count": 123,
     "metadata": {},
     "output_type": "execute_result"
    }
   ],
   "source": [
    "df_2018.head()"
   ]
  },
  {
   "cell_type": "code",
   "execution_count": 124,
   "metadata": {},
   "outputs": [],
   "source": [
    "growth_df = df_2014.merge(df_2018,on=\"county_code_year14\")"
   ]
  },
  {
   "cell_type": "code",
   "execution_count": 125,
   "metadata": {},
   "outputs": [
    {
     "data": {
      "text/html": [
       "<div>\n",
       "<style scoped>\n",
       "    .dataframe tbody tr th:only-of-type {\n",
       "        vertical-align: middle;\n",
       "    }\n",
       "\n",
       "    .dataframe tbody tr th {\n",
       "        vertical-align: top;\n",
       "    }\n",
       "\n",
       "    .dataframe thead th {\n",
       "        text-align: right;\n",
       "    }\n",
       "</style>\n",
       "<table border=\"1\" class=\"dataframe\">\n",
       "  <thead>\n",
       "    <tr style=\"text-align: right;\">\n",
       "      <th></th>\n",
       "      <th>county_code_year14</th>\n",
       "      <th>index_2014</th>\n",
       "      <th>county_name</th>\n",
       "      <th>prov_name</th>\n",
       "      <th>pref_name</th>\n",
       "      <th>index_2018</th>\n",
       "    </tr>\n",
       "  </thead>\n",
       "  <tbody>\n",
       "    <tr>\n",
       "      <th>0</th>\n",
       "      <td>130729</td>\n",
       "      <td>44.58</td>\n",
       "      <td>万全县</td>\n",
       "      <td>河北省</td>\n",
       "      <td>张家口市</td>\n",
       "      <td>100.18</td>\n",
       "    </tr>\n",
       "    <tr>\n",
       "      <th>1</th>\n",
       "      <td>360828</td>\n",
       "      <td>44.39</td>\n",
       "      <td>万安县</td>\n",
       "      <td>江西省</td>\n",
       "      <td>吉安市</td>\n",
       "      <td>102.02</td>\n",
       "    </tr>\n",
       "    <tr>\n",
       "      <th>2</th>\n",
       "      <td>361129</td>\n",
       "      <td>47.34</td>\n",
       "      <td>万年县</td>\n",
       "      <td>江西省</td>\n",
       "      <td>上饶市</td>\n",
       "      <td>104.65</td>\n",
       "    </tr>\n",
       "    <tr>\n",
       "      <th>3</th>\n",
       "      <td>511781</td>\n",
       "      <td>41.67</td>\n",
       "      <td>万源市</td>\n",
       "      <td>四川省</td>\n",
       "      <td>达州市</td>\n",
       "      <td>100.01</td>\n",
       "    </tr>\n",
       "    <tr>\n",
       "      <th>4</th>\n",
       "      <td>140822</td>\n",
       "      <td>45.07</td>\n",
       "      <td>万荣县</td>\n",
       "      <td>山西省</td>\n",
       "      <td>运城市</td>\n",
       "      <td>101.07</td>\n",
       "    </tr>\n",
       "  </tbody>\n",
       "</table>\n",
       "</div>"
      ],
      "text/plain": [
       "   county_code_year14  index_2014 county_name prov_name pref_name  index_2018\n",
       "0              130729       44.58         万全县       河北省      张家口市      100.18\n",
       "1              360828       44.39         万安县       江西省       吉安市      102.02\n",
       "2              361129       47.34         万年县       江西省       上饶市      104.65\n",
       "3              511781       41.67         万源市       四川省       达州市      100.01\n",
       "4              140822       45.07         万荣县       山西省       运城市      101.07"
      ]
     },
     "execution_count": 125,
     "metadata": {},
     "output_type": "execute_result"
    }
   ],
   "source": [
    "growth_df.head()"
   ]
  },
  {
   "cell_type": "code",
   "execution_count": 126,
   "metadata": {},
   "outputs": [],
   "source": [
    "growth_df[\"growth_rate\"] = growth_df.index_2018/growth_df.index_2014 -1"
   ]
  },
  {
   "cell_type": "code",
   "execution_count": 129,
   "metadata": {},
   "outputs": [
    {
     "data": {
      "text/html": [
       "<div>\n",
       "<style scoped>\n",
       "    .dataframe tbody tr th:only-of-type {\n",
       "        vertical-align: middle;\n",
       "    }\n",
       "\n",
       "    .dataframe tbody tr th {\n",
       "        vertical-align: top;\n",
       "    }\n",
       "\n",
       "    .dataframe thead th {\n",
       "        text-align: right;\n",
       "    }\n",
       "</style>\n",
       "<table border=\"1\" class=\"dataframe\">\n",
       "  <thead>\n",
       "    <tr style=\"text-align: right;\">\n",
       "      <th></th>\n",
       "      <th>county_code_year14</th>\n",
       "      <th>index_2014</th>\n",
       "      <th>county_name</th>\n",
       "      <th>prov_name</th>\n",
       "      <th>pref_name</th>\n",
       "      <th>index_2018</th>\n",
       "      <th>growth_rate</th>\n",
       "    </tr>\n",
       "  </thead>\n",
       "  <tbody>\n",
       "    <tr>\n",
       "      <th>169</th>\n",
       "      <td>610828</td>\n",
       "      <td>12.26</td>\n",
       "      <td>佳县</td>\n",
       "      <td>陕西省</td>\n",
       "      <td>榆林市</td>\n",
       "      <td>91.40</td>\n",
       "      <td>6.455139</td>\n",
       "    </tr>\n",
       "    <tr>\n",
       "      <th>1641</th>\n",
       "      <td>542525</td>\n",
       "      <td>13.23</td>\n",
       "      <td>革吉县</td>\n",
       "      <td>西藏自治区</td>\n",
       "      <td>阿里地区</td>\n",
       "      <td>94.58</td>\n",
       "      <td>6.148904</td>\n",
       "    </tr>\n",
       "    <tr>\n",
       "      <th>171</th>\n",
       "      <td>230223</td>\n",
       "      <td>13.91</td>\n",
       "      <td>依安县</td>\n",
       "      <td>黑龙江省</td>\n",
       "      <td>齐齐哈尔市</td>\n",
       "      <td>91.03</td>\n",
       "      <td>5.544213</td>\n",
       "    </tr>\n",
       "    <tr>\n",
       "      <th>678</th>\n",
       "      <td>622922</td>\n",
       "      <td>13.28</td>\n",
       "      <td>康乐县</td>\n",
       "      <td>甘肃省</td>\n",
       "      <td>临夏回族自治州</td>\n",
       "      <td>85.09</td>\n",
       "      <td>5.407380</td>\n",
       "    </tr>\n",
       "    <tr>\n",
       "      <th>679</th>\n",
       "      <td>130723</td>\n",
       "      <td>15.19</td>\n",
       "      <td>康保县</td>\n",
       "      <td>河北省</td>\n",
       "      <td>张家口市</td>\n",
       "      <td>93.01</td>\n",
       "      <td>5.123107</td>\n",
       "    </tr>\n",
       "    <tr>\n",
       "      <th>867</th>\n",
       "      <td>211321</td>\n",
       "      <td>13.20</td>\n",
       "      <td>朝阳县</td>\n",
       "      <td>辽宁省</td>\n",
       "      <td>朝阳市</td>\n",
       "      <td>79.73</td>\n",
       "      <td>5.040152</td>\n",
       "    </tr>\n",
       "    <tr>\n",
       "      <th>1675</th>\n",
       "      <td>530621</td>\n",
       "      <td>16.20</td>\n",
       "      <td>鲁甸县</td>\n",
       "      <td>云南省</td>\n",
       "      <td>昭通市</td>\n",
       "      <td>97.43</td>\n",
       "      <td>5.014198</td>\n",
       "    </tr>\n",
       "    <tr>\n",
       "      <th>657</th>\n",
       "      <td>532627</td>\n",
       "      <td>15.69</td>\n",
       "      <td>广南县</td>\n",
       "      <td>云南省</td>\n",
       "      <td>文山壮族苗族自治州</td>\n",
       "      <td>92.09</td>\n",
       "      <td>4.869344</td>\n",
       "    </tr>\n",
       "    <tr>\n",
       "      <th>39</th>\n",
       "      <td>220422</td>\n",
       "      <td>15.07</td>\n",
       "      <td>东辽县</td>\n",
       "      <td>吉林省</td>\n",
       "      <td>辽源市</td>\n",
       "      <td>86.35</td>\n",
       "      <td>4.729927</td>\n",
       "    </tr>\n",
       "    <tr>\n",
       "      <th>711</th>\n",
       "      <td>540122</td>\n",
       "      <td>18.17</td>\n",
       "      <td>当雄县</td>\n",
       "      <td>西藏自治区</td>\n",
       "      <td>拉萨市</td>\n",
       "      <td>102.58</td>\n",
       "      <td>4.645570</td>\n",
       "    </tr>\n",
       "  </tbody>\n",
       "</table>\n",
       "</div>"
      ],
      "text/plain": [
       "      county_code_year14  index_2014 county_name prov_name  pref_name  \\\n",
       "169               610828       12.26          佳县       陕西省        榆林市   \n",
       "1641              542525       13.23         革吉县     西藏自治区       阿里地区   \n",
       "171               230223       13.91         依安县      黑龙江省      齐齐哈尔市   \n",
       "678               622922       13.28         康乐县       甘肃省    临夏回族自治州   \n",
       "679               130723       15.19         康保县       河北省       张家口市   \n",
       "867               211321       13.20         朝阳县       辽宁省        朝阳市   \n",
       "1675              530621       16.20         鲁甸县       云南省        昭通市   \n",
       "657               532627       15.69         广南县       云南省  文山壮族苗族自治州   \n",
       "39                220422       15.07         东辽县       吉林省        辽源市   \n",
       "711               540122       18.17         当雄县     西藏自治区        拉萨市   \n",
       "\n",
       "      index_2018  growth_rate  \n",
       "169        91.40     6.455139  \n",
       "1641       94.58     6.148904  \n",
       "171        91.03     5.544213  \n",
       "678        85.09     5.407380  \n",
       "679        93.01     5.123107  \n",
       "867        79.73     5.040152  \n",
       "1675       97.43     5.014198  \n",
       "657        92.09     4.869344  \n",
       "39         86.35     4.729927  \n",
       "711       102.58     4.645570  "
      ]
     },
     "execution_count": 129,
     "metadata": {},
     "output_type": "execute_result"
    }
   ],
   "source": [
    "top_10_growth = growth_df.sort_values([\"growth_rate\"],ascending=False).head(10)\n",
    "top_10_growth"
   ]
  },
  {
   "cell_type": "code",
   "execution_count": 130,
   "metadata": {},
   "outputs": [
    {
     "data": {
      "text/plain": [
       "<AxesSubplot:xlabel='county_name', ylabel='growth_rate'>"
      ]
     },
     "execution_count": 130,
     "metadata": {},
     "output_type": "execute_result"
    },
    {
     "data": {
      "image/png": "[encoded data removed]",
      "text/plain": [
       "<Figure size 576x576 with 1 Axes>"
      ]
     },
     "metadata": {
      "needs_background": "light"
     },
     "output_type": "display_data"
    }
   ],
   "source": [
    "sns.barplot(x=\"county_name\", y=\"growth_rate\", data=top_10_growth,color=\"steelblue\")"
   ]
  },
  {
   "cell_type": "code",
   "execution_count": null,
   "metadata": {},
   "outputs": [],
   "source": []
  }
 ],
 "metadata": {
  "kernelspec": {
   "display_name": "Python 3",
   "language": "python",
   "name": "python3"
  },
  "language_info": {
   "codemirror_mode": {
    "name": "ipython",
    "version": 3
   },
   "file_extension": ".py",
   "mimetype": "text/x-python",
   "name": "python",
   "nbconvert_exporter": "python",
   "pygments_lexer": "ipython3",
   "version": "3.7.7"
  }
 },
 "nbformat": 4,
 "nbformat_minor": 4
}
