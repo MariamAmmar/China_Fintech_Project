{
 "cells": [
  {
   "cell_type": "code",
   "execution_count": 2,
   "metadata": {},
   "outputs": [],
   "source": [
    "import pandas as pd\n",
    "import numpy as np\n",
    "import matplotlib.pyplot as plt\n",
    "import seaborn as sns\n",
    "from sklearn.impute import SimpleImputer\n",
    "import numpy as np\n",
    "import matplotlib.pyplot as plt\n",
    "import matplotlib"
   ]
  },
  {
   "cell_type": "code",
   "execution_count": 4,
   "metadata": {},
   "outputs": [],
   "source": [
    "[f for f in matplotlib.font_manager.fontManager.ttflist if 'Heiti' in f.name]\n",
    "plt.rcParams['font.family'] = ['Heiti TC']\n",
    "plt.rcParams.update({'font.size': 14})"
   ]
  },
  {
   "cell_type": "code",
   "execution_count": 18,
   "metadata": {},
   "outputs": [],
   "source": [
    "file = 'data/gdp_clean_fintech.csv'"
   ]
  },
  {
   "cell_type": "code",
   "execution_count": 19,
   "metadata": {},
   "outputs": [
    {
     "data": {
      "text/plain": [
       "(9120, 24)"
      ]
     },
     "execution_count": 19,
     "metadata": {},
     "output_type": "execute_result"
    }
   ],
   "source": [
    "data = pd.read_csv(file)\n",
    "df = data.copy()\n",
    "df.shape"
   ]
  },
  {
   "cell_type": "code",
   "execution_count": 20,
   "metadata": {},
   "outputs": [
    {
     "data": {
      "text/plain": [
       "[<matplotlib.lines.Line2D at 0x13f3e1210>]"
      ]
     },
     "execution_count": 20,
     "metadata": {},
     "output_type": "execute_result"
    },
    {
     "data": {
      "image/png": "[encoded data removed]",
      "text/plain": [
       "<Figure size 720x360 with 1 Axes>"
      ]
     },
     "metadata": {
      "needs_background": "light"
     },
     "output_type": "display_data"
    }
   ],
   "source": [
    "df.head()\n",
    "year_grouped = df.groupby(\"year\")['index_aggregate'].mean()\n",
    "plt.title(\"Overall index_aggregate Level 2014-2018\")\n",
    "plt.plot(year_grouped)"
   ]
  },
  {
   "cell_type": "code",
   "execution_count": 21,
   "metadata": {},
   "outputs": [
    {
     "data": {
      "text/plain": [
       "Index(['year', 'county_name', 'county_code_year14', 'prov_code', 'prov_name',\n",
       "       'pref_code', 'pref_name', 'index_aggregate', 'coverage_breadth',\n",
       "       'usage_depth', 'payment', 'insurance', 'monetary_fund', 'investment',\n",
       "       'credit', 'credit_investigation', 'digitization_level', 'flb', 'gdp',\n",
       "       'per_gdp', 'urban', 'industry', 'ip', 'tradeopeness'],\n",
       "      dtype='object')"
      ]
     },
     "execution_count": 21,
     "metadata": {},
     "output_type": "execute_result"
    }
   ],
   "source": [
    "df.columns"
   ]
  },
  {
   "cell_type": "code",
   "execution_count": 22,
   "metadata": {},
   "outputs": [
    {
     "data": {
      "text/html": [
       "<div>\n",
       "<style scoped>\n",
       "    .dataframe tbody tr th:only-of-type {\n",
       "        vertical-align: middle;\n",
       "    }\n",
       "\n",
       "    .dataframe tbody tr th {\n",
       "        vertical-align: top;\n",
       "    }\n",
       "\n",
       "    .dataframe thead th {\n",
       "        text-align: right;\n",
       "    }\n",
       "</style>\n",
       "<table border=\"1\" class=\"dataframe\">\n",
       "  <thead>\n",
       "    <tr style=\"text-align: right;\">\n",
       "      <th></th>\n",
       "      <th>year</th>\n",
       "      <th>county_name</th>\n",
       "      <th>county_code_year14</th>\n",
       "      <th>prov_code</th>\n",
       "      <th>prov_name</th>\n",
       "      <th>pref_code</th>\n",
       "      <th>pref_name</th>\n",
       "      <th>index_aggregate</th>\n",
       "      <th>coverage_breadth</th>\n",
       "      <th>usage_depth</th>\n",
       "      <th>...</th>\n",
       "      <th>credit</th>\n",
       "      <th>credit_investigation</th>\n",
       "      <th>digitization_level</th>\n",
       "      <th>flb</th>\n",
       "      <th>gdp</th>\n",
       "      <th>per_gdp</th>\n",
       "      <th>urban</th>\n",
       "      <th>industry</th>\n",
       "      <th>ip</th>\n",
       "      <th>tradeopeness</th>\n",
       "    </tr>\n",
       "  </thead>\n",
       "  <tbody>\n",
       "    <tr>\n",
       "      <th>2548</th>\n",
       "      <td>2015</td>\n",
       "      <td>昆山市</td>\n",
       "      <td>320583</td>\n",
       "      <td>32</td>\n",
       "      <td>江苏省</td>\n",
       "      <td>3205</td>\n",
       "      <td>苏州市</td>\n",
       "      <td>131.75</td>\n",
       "      <td>168.16</td>\n",
       "      <td>107.38</td>\n",
       "      <td>...</td>\n",
       "      <td>107.13</td>\n",
       "      <td>97.98</td>\n",
       "      <td>55.79</td>\n",
       "      <td>22000000.0</td>\n",
       "      <td>31000000.0</td>\n",
       "      <td>186582.0</td>\n",
       "      <td>0.196271</td>\n",
       "      <td>0.518705</td>\n",
       "      <td>0.921139</td>\n",
       "      <td>1.087865</td>\n",
       "    </tr>\n",
       "    <tr>\n",
       "      <th>1803</th>\n",
       "      <td>2015</td>\n",
       "      <td>义乌市</td>\n",
       "      <td>330782</td>\n",
       "      <td>33</td>\n",
       "      <td>浙江省</td>\n",
       "      <td>3307</td>\n",
       "      <td>金华市</td>\n",
       "      <td>129.92</td>\n",
       "      <td>168.43</td>\n",
       "      <td>130.89</td>\n",
       "      <td>...</td>\n",
       "      <td>134.28</td>\n",
       "      <td>90.52</td>\n",
       "      <td>1.04</td>\n",
       "      <td>21000000.0</td>\n",
       "      <td>10000000.0</td>\n",
       "      <td>135882.0</td>\n",
       "      <td>0.196271</td>\n",
       "      <td>0.312215</td>\n",
       "      <td>0.819610</td>\n",
       "      <td>2.018084</td>\n",
       "    </tr>\n",
       "    <tr>\n",
       "      <th>7314</th>\n",
       "      <td>2018</td>\n",
       "      <td>义乌市</td>\n",
       "      <td>330782</td>\n",
       "      <td>33</td>\n",
       "      <td>浙江省</td>\n",
       "      <td>3307</td>\n",
       "      <td>金华市</td>\n",
       "      <td>127.21</td>\n",
       "      <td>111.40</td>\n",
       "      <td>175.40</td>\n",
       "      <td>...</td>\n",
       "      <td>197.42</td>\n",
       "      <td>136.26</td>\n",
       "      <td>91.84</td>\n",
       "      <td>24000000.0</td>\n",
       "      <td>12000000.0</td>\n",
       "      <td>95795.0</td>\n",
       "      <td>0.324884</td>\n",
       "      <td>0.279094</td>\n",
       "      <td>0.193353</td>\n",
       "      <td>2.033799</td>\n",
       "    </tr>\n",
       "    <tr>\n",
       "      <th>3222</th>\n",
       "      <td>2015</td>\n",
       "      <td>郫县</td>\n",
       "      <td>510124</td>\n",
       "      <td>51</td>\n",
       "      <td>四川省</td>\n",
       "      <td>5101</td>\n",
       "      <td>成都市</td>\n",
       "      <td>127.06</td>\n",
       "      <td>166.50</td>\n",
       "      <td>91.18</td>\n",
       "      <td>...</td>\n",
       "      <td>88.61</td>\n",
       "      <td>92.37</td>\n",
       "      <td>62.05</td>\n",
       "      <td>3500000.0</td>\n",
       "      <td>4300000.0</td>\n",
       "      <td>51865.0</td>\n",
       "      <td>0.496786</td>\n",
       "      <td>0.339599</td>\n",
       "      <td>0.101628</td>\n",
       "      <td>0.051932</td>\n",
       "    </tr>\n",
       "    <tr>\n",
       "      <th>1871</th>\n",
       "      <td>2015</td>\n",
       "      <td>伊宁市</td>\n",
       "      <td>654002</td>\n",
       "      <td>65</td>\n",
       "      <td>新疆维吾尔自治区</td>\n",
       "      <td>6540</td>\n",
       "      <td>伊犁哈萨克自治州</td>\n",
       "      <td>126.92</td>\n",
       "      <td>174.81</td>\n",
       "      <td>73.94</td>\n",
       "      <td>...</td>\n",
       "      <td>65.00</td>\n",
       "      <td>58.25</td>\n",
       "      <td>65.10</td>\n",
       "      <td>4400000.0</td>\n",
       "      <td>2100000.0</td>\n",
       "      <td>37957.0</td>\n",
       "      <td>0.641036</td>\n",
       "      <td>0.084952</td>\n",
       "      <td>0.101628</td>\n",
       "      <td>0.031946</td>\n",
       "    </tr>\n",
       "    <tr>\n",
       "      <th>2032</th>\n",
       "      <td>2015</td>\n",
       "      <td>双流县</td>\n",
       "      <td>510122</td>\n",
       "      <td>51</td>\n",
       "      <td>四川省</td>\n",
       "      <td>5101</td>\n",
       "      <td>成都市</td>\n",
       "      <td>126.79</td>\n",
       "      <td>163.03</td>\n",
       "      <td>104.30</td>\n",
       "      <td>...</td>\n",
       "      <td>106.13</td>\n",
       "      <td>93.72</td>\n",
       "      <td>48.01</td>\n",
       "      <td>6800000.0</td>\n",
       "      <td>8700000.0</td>\n",
       "      <td>67862.0</td>\n",
       "      <td>0.594423</td>\n",
       "      <td>0.339599</td>\n",
       "      <td>0.101628</td>\n",
       "      <td>0.228966</td>\n",
       "    </tr>\n",
       "    <tr>\n",
       "      <th>8128</th>\n",
       "      <td>2018</td>\n",
       "      <td>昆山市</td>\n",
       "      <td>320583</td>\n",
       "      <td>32</td>\n",
       "      <td>江苏省</td>\n",
       "      <td>3205</td>\n",
       "      <td>苏州市</td>\n",
       "      <td>125.19</td>\n",
       "      <td>109.66</td>\n",
       "      <td>157.96</td>\n",
       "      <td>...</td>\n",
       "      <td>188.45</td>\n",
       "      <td>135.86</td>\n",
       "      <td>116.96</td>\n",
       "      <td>34000000.0</td>\n",
       "      <td>38000000.0</td>\n",
       "      <td>230270.0</td>\n",
       "      <td>0.324884</td>\n",
       "      <td>0.509170</td>\n",
       "      <td>0.193353</td>\n",
       "      <td>0.237948</td>\n",
       "    </tr>\n",
       "    <tr>\n",
       "      <th>8742</th>\n",
       "      <td>2018</td>\n",
       "      <td>莱山区</td>\n",
       "      <td>370613</td>\n",
       "      <td>37</td>\n",
       "      <td>山东省</td>\n",
       "      <td>3706</td>\n",
       "      <td>烟台市</td>\n",
       "      <td>124.36</td>\n",
       "      <td>109.46</td>\n",
       "      <td>147.28</td>\n",
       "      <td>...</td>\n",
       "      <td>166.50</td>\n",
       "      <td>132.64</td>\n",
       "      <td>131.90</td>\n",
       "      <td>3500000.0</td>\n",
       "      <td>1300000.0</td>\n",
       "      <td>34697.0</td>\n",
       "      <td>0.324884</td>\n",
       "      <td>0.269670</td>\n",
       "      <td>0.193353</td>\n",
       "      <td>0.237948</td>\n",
       "    </tr>\n",
       "    <tr>\n",
       "      <th>7784</th>\n",
       "      <td>2018</td>\n",
       "      <td>定海区</td>\n",
       "      <td>330902</td>\n",
       "      <td>33</td>\n",
       "      <td>浙江省</td>\n",
       "      <td>3309</td>\n",
       "      <td>舟山市</td>\n",
       "      <td>124.27</td>\n",
       "      <td>105.05</td>\n",
       "      <td>163.29</td>\n",
       "      <td>...</td>\n",
       "      <td>180.30</td>\n",
       "      <td>133.39</td>\n",
       "      <td>116.86</td>\n",
       "      <td>1200000.0</td>\n",
       "      <td>1300000.0</td>\n",
       "      <td>34697.0</td>\n",
       "      <td>0.324884</td>\n",
       "      <td>0.269670</td>\n",
       "      <td>0.193353</td>\n",
       "      <td>0.237948</td>\n",
       "    </tr>\n",
       "    <tr>\n",
       "      <th>3286</th>\n",
       "      <td>2015</td>\n",
       "      <td>闽侯县</td>\n",
       "      <td>350121</td>\n",
       "      <td>35</td>\n",
       "      <td>福建省</td>\n",
       "      <td>3501</td>\n",
       "      <td>福州市</td>\n",
       "      <td>124.12</td>\n",
       "      <td>156.16</td>\n",
       "      <td>98.82</td>\n",
       "      <td>...</td>\n",
       "      <td>107.91</td>\n",
       "      <td>81.67</td>\n",
       "      <td>64.33</td>\n",
       "      <td>2300000.0</td>\n",
       "      <td>4400000.0</td>\n",
       "      <td>62810.0</td>\n",
       "      <td>0.196271</td>\n",
       "      <td>0.543683</td>\n",
       "      <td>0.101628</td>\n",
       "      <td>0.031946</td>\n",
       "    </tr>\n",
       "  </tbody>\n",
       "</table>\n",
       "<p>10 rows × 24 columns</p>\n",
       "</div>"
      ],
      "text/plain": [
       "      year county_name  county_code_year14  prov_code prov_name  pref_code  \\\n",
       "2548  2015         昆山市              320583         32       江苏省       3205   \n",
       "1803  2015         义乌市              330782         33       浙江省       3307   \n",
       "7314  2018         义乌市              330782         33       浙江省       3307   \n",
       "3222  2015          郫县              510124         51       四川省       5101   \n",
       "1871  2015         伊宁市              654002         65  新疆维吾尔自治区       6540   \n",
       "2032  2015         双流县              510122         51       四川省       5101   \n",
       "8128  2018         昆山市              320583         32       江苏省       3205   \n",
       "8742  2018         莱山区              370613         37       山东省       3706   \n",
       "7784  2018         定海区              330902         33       浙江省       3309   \n",
       "3286  2015         闽侯县              350121         35       福建省       3501   \n",
       "\n",
       "     pref_name  index_aggregate  coverage_breadth  usage_depth  ...  credit  \\\n",
       "2548       苏州市           131.75            168.16       107.38  ...  107.13   \n",
       "1803       金华市           129.92            168.43       130.89  ...  134.28   \n",
       "7314       金华市           127.21            111.40       175.40  ...  197.42   \n",
       "3222       成都市           127.06            166.50        91.18  ...   88.61   \n",
       "1871  伊犁哈萨克自治州           126.92            174.81        73.94  ...   65.00   \n",
       "2032       成都市           126.79            163.03       104.30  ...  106.13   \n",
       "8128       苏州市           125.19            109.66       157.96  ...  188.45   \n",
       "8742       烟台市           124.36            109.46       147.28  ...  166.50   \n",
       "7784       舟山市           124.27            105.05       163.29  ...  180.30   \n",
       "3286       福州市           124.12            156.16        98.82  ...  107.91   \n",
       "\n",
       "      credit_investigation  digitization_level         flb         gdp  \\\n",
       "2548                 97.98               55.79  22000000.0  31000000.0   \n",
       "1803                 90.52                1.04  21000000.0  10000000.0   \n",
       "7314                136.26               91.84  24000000.0  12000000.0   \n",
       "3222                 92.37               62.05   3500000.0   4300000.0   \n",
       "1871                 58.25               65.10   4400000.0   2100000.0   \n",
       "2032                 93.72               48.01   6800000.0   8700000.0   \n",
       "8128                135.86              116.96  34000000.0  38000000.0   \n",
       "8742                132.64              131.90   3500000.0   1300000.0   \n",
       "7784                133.39              116.86   1200000.0   1300000.0   \n",
       "3286                 81.67               64.33   2300000.0   4400000.0   \n",
       "\n",
       "       per_gdp     urban  industry        ip  tradeopeness  \n",
       "2548  186582.0  0.196271  0.518705  0.921139      1.087865  \n",
       "1803  135882.0  0.196271  0.312215  0.819610      2.018084  \n",
       "7314   95795.0  0.324884  0.279094  0.193353      2.033799  \n",
       "3222   51865.0  0.496786  0.339599  0.101628      0.051932  \n",
       "1871   37957.0  0.641036  0.084952  0.101628      0.031946  \n",
       "2032   67862.0  0.594423  0.339599  0.101628      0.228966  \n",
       "8128  230270.0  0.324884  0.509170  0.193353      0.237948  \n",
       "8742   34697.0  0.324884  0.269670  0.193353      0.237948  \n",
       "7784   34697.0  0.324884  0.269670  0.193353      0.237948  \n",
       "3286   62810.0  0.196271  0.543683  0.101628      0.031946  \n",
       "\n",
       "[10 rows x 24 columns]"
      ]
     },
     "execution_count": 22,
     "metadata": {},
     "output_type": "execute_result"
    }
   ],
   "source": [
    "top_10_index = df.sort_values([\"index_aggregate\"], ascending=False).head(10)\n",
    "top_10_index"
   ]
  },
  {
   "cell_type": "code",
   "execution_count": 23,
   "metadata": {},
   "outputs": [
    {
     "data": {
      "text/plain": [
       "[<matplotlib.lines.Line2D at 0x13f475b90>]"
      ]
     },
     "execution_count": 23,
     "metadata": {},
     "output_type": "execute_result"
    },
    {
     "data": {
      "image/png": "[encoded data removed]",
      "text/plain": [
       "<Figure size 720x360 with 1 Axes>"
      ]
     },
     "metadata": {
      "needs_background": "light"
     },
     "output_type": "display_data"
    }
   ],
   "source": [
    "gdp = df.groupby(\"year\")[\"index_aggregate\"].mean()\n",
    "# gdp_mean = df.groupby(\"year\")[\"gdp\"].median()\n",
    "plt.rcParams['figure.figsize'] = [10, 5]\n",
    "plt.title(\"Overall index_aggregate\")\n",
    "plt.xticks([2014,2015,2016,2017,2018])\n",
    "plt.plot(gdp)"
   ]
  },
  {
   "cell_type": "code",
   "execution_count": 25,
   "metadata": {},
   "outputs": [
    {
     "data": {
      "image/png": "[encoded data removed]",
      "text/plain": [
       "<Figure size 720x288 with 1 Axes>"
      ]
     },
     "metadata": {
      "needs_background": "light"
     },
     "output_type": "display_data"
    }
   ],
   "source": [
    "plt.figure(figsize=(10,4))\n",
    "plt.bar(top_10_index.county_name, top_10_index.index_aggregate, align='center', alpha=0.5, )\n",
    "plt.ylabel('Index Aggregate Level')\n",
    "plt.title('Top Index Aggregate Counties')\n",
    "plt.ylim((0,160))\n",
    "plt.savefig('top_index_aggre.png')\n",
    "plt.show()"
   ]
  },
  {
   "cell_type": "markdown",
   "metadata": {},
   "source": [
    "## Growth Rate"
   ]
  },
  {
   "cell_type": "code",
   "execution_count": 95,
   "metadata": {},
   "outputs": [
    {
     "data": {
      "text/html": [
       "<div>\n",
       "<style scoped>\n",
       "    .dataframe tbody tr th:only-of-type {\n",
       "        vertical-align: middle;\n",
       "    }\n",
       "\n",
       "    .dataframe tbody tr th {\n",
       "        vertical-align: top;\n",
       "    }\n",
       "\n",
       "    .dataframe thead th {\n",
       "        text-align: right;\n",
       "    }\n",
       "</style>\n",
       "<table border=\"1\" class=\"dataframe\">\n",
       "  <thead>\n",
       "    <tr style=\"text-align: right;\">\n",
       "      <th></th>\n",
       "      <th>year</th>\n",
       "      <th>county_name</th>\n",
       "      <th>county_code_year14</th>\n",
       "      <th>prov_code</th>\n",
       "      <th>prov_name</th>\n",
       "      <th>pref_code</th>\n",
       "      <th>pref_name</th>\n",
       "      <th>index_aggregate</th>\n",
       "      <th>coverage_breadth</th>\n",
       "      <th>usage_depth</th>\n",
       "      <th>...</th>\n",
       "      <th>credit</th>\n",
       "      <th>credit_investigation</th>\n",
       "      <th>digitization_level</th>\n",
       "      <th>flb</th>\n",
       "      <th>gdp</th>\n",
       "      <th>per_gdp</th>\n",
       "      <th>urban</th>\n",
       "      <th>industry</th>\n",
       "      <th>ip</th>\n",
       "      <th>tradeopeness</th>\n",
       "    </tr>\n",
       "  </thead>\n",
       "  <tbody>\n",
       "    <tr>\n",
       "      <th>0</th>\n",
       "      <td>2014</td>\n",
       "      <td>万全县</td>\n",
       "      <td>130729</td>\n",
       "      <td>13</td>\n",
       "      <td>河北省</td>\n",
       "      <td>1307</td>\n",
       "      <td>张家口市</td>\n",
       "      <td>44.58</td>\n",
       "      <td>52.42</td>\n",
       "      <td>37.77</td>\n",
       "      <td>...</td>\n",
       "      <td>35.34</td>\n",
       "      <td>0.0</td>\n",
       "      <td>31.04</td>\n",
       "      <td>528889.0</td>\n",
       "      <td>634602.0</td>\n",
       "      <td>27323.0</td>\n",
       "      <td>0.214560</td>\n",
       "      <td>0.432618</td>\n",
       "      <td>0.064318</td>\n",
       "      <td>0.010522</td>\n",
       "    </tr>\n",
       "    <tr>\n",
       "      <th>1</th>\n",
       "      <td>2014</td>\n",
       "      <td>万安县</td>\n",
       "      <td>360828</td>\n",
       "      <td>36</td>\n",
       "      <td>江西省</td>\n",
       "      <td>3608</td>\n",
       "      <td>吉安市</td>\n",
       "      <td>44.39</td>\n",
       "      <td>33.21</td>\n",
       "      <td>78.26</td>\n",
       "      <td>...</td>\n",
       "      <td>85.27</td>\n",
       "      <td>0.0</td>\n",
       "      <td>19.80</td>\n",
       "      <td>341328.0</td>\n",
       "      <td>575617.0</td>\n",
       "      <td>27323.0</td>\n",
       "      <td>0.214560</td>\n",
       "      <td>0.361632</td>\n",
       "      <td>0.106057</td>\n",
       "      <td>0.031628</td>\n",
       "    </tr>\n",
       "    <tr>\n",
       "      <th>2</th>\n",
       "      <td>2014</td>\n",
       "      <td>万年县</td>\n",
       "      <td>361129</td>\n",
       "      <td>36</td>\n",
       "      <td>江西省</td>\n",
       "      <td>3611</td>\n",
       "      <td>上饶市</td>\n",
       "      <td>47.34</td>\n",
       "      <td>42.86</td>\n",
       "      <td>60.84</td>\n",
       "      <td>...</td>\n",
       "      <td>57.87</td>\n",
       "      <td>0.0</td>\n",
       "      <td>37.63</td>\n",
       "      <td>644512.0</td>\n",
       "      <td>1000000.0</td>\n",
       "      <td>27323.0</td>\n",
       "      <td>0.214560</td>\n",
       "      <td>0.361632</td>\n",
       "      <td>0.106057</td>\n",
       "      <td>0.031628</td>\n",
       "    </tr>\n",
       "    <tr>\n",
       "      <th>3</th>\n",
       "      <td>2014</td>\n",
       "      <td>万源市</td>\n",
       "      <td>511781</td>\n",
       "      <td>51</td>\n",
       "      <td>四川省</td>\n",
       "      <td>5117</td>\n",
       "      <td>达州市</td>\n",
       "      <td>41.67</td>\n",
       "      <td>46.64</td>\n",
       "      <td>41.19</td>\n",
       "      <td>...</td>\n",
       "      <td>45.24</td>\n",
       "      <td>0.0</td>\n",
       "      <td>26.13</td>\n",
       "      <td>574068.0</td>\n",
       "      <td>1200000.0</td>\n",
       "      <td>28395.0</td>\n",
       "      <td>0.561833</td>\n",
       "      <td>0.361632</td>\n",
       "      <td>0.078333</td>\n",
       "      <td>0.005540</td>\n",
       "    </tr>\n",
       "    <tr>\n",
       "      <th>4</th>\n",
       "      <td>2014</td>\n",
       "      <td>万荣县</td>\n",
       "      <td>140822</td>\n",
       "      <td>14</td>\n",
       "      <td>山西省</td>\n",
       "      <td>1408</td>\n",
       "      <td>运城市</td>\n",
       "      <td>45.07</td>\n",
       "      <td>48.69</td>\n",
       "      <td>44.57</td>\n",
       "      <td>...</td>\n",
       "      <td>62.17</td>\n",
       "      <td>0.0</td>\n",
       "      <td>34.01</td>\n",
       "      <td>359126.0</td>\n",
       "      <td>618199.0</td>\n",
       "      <td>13778.0</td>\n",
       "      <td>0.069839</td>\n",
       "      <td>0.361632</td>\n",
       "      <td>0.106057</td>\n",
       "      <td>0.031628</td>\n",
       "    </tr>\n",
       "  </tbody>\n",
       "</table>\n",
       "<p>5 rows × 24 columns</p>\n",
       "</div>"
      ],
      "text/plain": [
       "   year county_name  county_code_year14  prov_code prov_name  pref_code  \\\n",
       "0  2014         万全县              130729         13       河北省       1307   \n",
       "1  2014         万安县              360828         36       江西省       3608   \n",
       "2  2014         万年县              361129         36       江西省       3611   \n",
       "3  2014         万源市              511781         51       四川省       5117   \n",
       "4  2014         万荣县              140822         14       山西省       1408   \n",
       "\n",
       "  pref_name  index_aggregate  coverage_breadth  usage_depth  ...  credit  \\\n",
       "0      张家口市            44.58             52.42        37.77  ...   35.34   \n",
       "1       吉安市            44.39             33.21        78.26  ...   85.27   \n",
       "2       上饶市            47.34             42.86        60.84  ...   57.87   \n",
       "3       达州市            41.67             46.64        41.19  ...   45.24   \n",
       "4       运城市            45.07             48.69        44.57  ...   62.17   \n",
       "\n",
       "   credit_investigation  digitization_level       flb        gdp  per_gdp  \\\n",
       "0                   0.0               31.04  528889.0   634602.0  27323.0   \n",
       "1                   0.0               19.80  341328.0   575617.0  27323.0   \n",
       "2                   0.0               37.63  644512.0  1000000.0  27323.0   \n",
       "3                   0.0               26.13  574068.0  1200000.0  28395.0   \n",
       "4                   0.0               34.01  359126.0   618199.0  13778.0   \n",
       "\n",
       "      urban  industry        ip  tradeopeness  \n",
       "0  0.214560  0.432618  0.064318      0.010522  \n",
       "1  0.214560  0.361632  0.106057      0.031628  \n",
       "2  0.214560  0.361632  0.106057      0.031628  \n",
       "3  0.561833  0.361632  0.078333      0.005540  \n",
       "4  0.069839  0.361632  0.106057      0.031628  \n",
       "\n",
       "[5 rows x 24 columns]"
      ]
     },
     "execution_count": 95,
     "metadata": {},
     "output_type": "execute_result"
    }
   ],
   "source": [
    "df.head()"
   ]
  },
  {
   "cell_type": "code",
   "execution_count": null,
   "metadata": {},
   "outputs": [],
   "source": []
  },
  {
   "cell_type": "code",
   "execution_count": null,
   "metadata": {},
   "outputs": [],
   "source": []
  },
  {
   "cell_type": "markdown",
   "metadata": {},
   "source": [
    "## Using Ridge Regression"
   ]
  },
  {
   "cell_type": "code",
   "execution_count": 79,
   "metadata": {},
   "outputs": [],
   "source": [
    "import pandas as pd\n",
    "import numpy as np\n",
    "from matplotlib import pyplot as plt \n",
    "import seaborn as sns\n",
    "from sklearn.preprocessing import LabelEncoder, StandardScaler\n",
    "from sklearn.model_selection import train_test_split\n",
    "from sklearn.linear_model import LinearRegression\n",
    "from sklearn import metrics\n",
    "from sklearn import ensemble\n",
    "from sklearn.linear_model import Lasso,Ridge,ElasticNet"
   ]
  },
  {
   "cell_type": "code",
   "execution_count": 64,
   "metadata": {},
   "outputs": [
    {
     "data": {
      "text/plain": [
       "<AxesSubplot:>"
      ]
     },
     "execution_count": 64,
     "metadata": {},
     "output_type": "execute_result"
    },
    {
     "data": {
      "image/png": "[encoded data removed]",
      "text/plain": [
       "<Figure size 1440x1440 with 2 Axes>"
      ]
     },
     "metadata": {
      "needs_background": "light"
     },
     "output_type": "display_data"
    }
   ],
   "source": [
    "corr_mat=df.corr()\n",
    "fi,ax=plt.subplots(figsize=(20,20))\n",
    "sns.heatmap(corr_mat,square=True)"
   ]
  },
  {
   "cell_type": "code",
   "execution_count": 91,
   "metadata": {},
   "outputs": [],
   "source": [
    "from sklearn.preprocessing import MinMaxScaler, RobustScaler\n",
    "from sklearn.model_selection import train_test_split\n",
    "\n",
    "\n",
    "y = df[\"index_aggregate\"]\n",
    "X = df[['coverage_breadth',\n",
    "       'usage_depth', 'payment', 'insurance', 'monetary_fund', 'investment',\n",
    "       'credit', 'credit_investigation', 'digitization_level', 'flb', 'gdp',\n",
    "       'per_gdp', 'urban', 'industry', 'ip', 'tradeopeness']]\n",
    "X = RobustScaler().fit_transform(X)\n",
    "X = pd.DataFrame(X, columns = ['coverage_breadth',\n",
    "       'usage_depth', 'payment', 'insurance', 'monetary_fund', 'investment',\n",
    "       'credit', 'credit_investigation', 'digitization_level', 'flb', 'gdp',\n",
    "       'per_gdp', 'urban', 'industry', 'ip', 'tradeopeness'])\n",
    "\n",
    "x_train, x_test, y_train, y_test = train_test_split(X, y, test_size=0.2, random_state=1)"
   ]
  },
  {
   "cell_type": "code",
   "execution_count": 92,
   "metadata": {},
   "outputs": [],
   "source": [
    "# def regularization(model,alpha_range):\n",
    "#     rmse_score_insample=[]\n",
    "#     rmse_score_outsample=[]\n",
    "#     r2_score_insample=[]\n",
    "#     r2_score_outsample=[]\n",
    "#     for i in alpha_range:\n",
    "#         regularization = model(alpha=i,normalize=True)\n",
    "#         regularization.fit(x_train,y_train)\n",
    "#         y_pred_train = regularization.predict(x_train)\n",
    "#         y_pred_train = y_pred_train.reshape(-1,1)\n",
    "#         y_pred_test=regularization.predict(x_test)\n",
    "#         y_pred_test = y_pred_test.reshape(-1,1)\n",
    "#         rmse_score_insample.append(np.sqrt(metrics.mean_squared_error(y_train,y_pred_train )))\n",
    "#         rmse_score_outsample.append(np.sqrt(metrics.mean_squared_error(y_test, y_pred_test)))\n",
    "#         r2_score_insample.append(metrics.r2_score(y_train, y_pred_train))\n",
    "#         r2_score_outsample.append(metrics.r2_score(y_test, y_pred_test))\n",
    "#     df=pd.DataFrame()\n",
    "#     df['alpha']=alpha_range\n",
    "#     df['rmse_score_insample'] = rmse_score_insample\n",
    "#     df['rmse_score_outsample']= rmse_score_outsample \n",
    "#     df['r2_score_insample'] = r2_score_insample\n",
    "#     df['r2_score_outsample'] = r2_score_outsample\n",
    "#     return df.plot(x = 'alpha', y = ['rmse_score_insample', 'rmse_score_outsample'])"
   ]
  },
  {
   "cell_type": "code",
   "execution_count": 93,
   "metadata": {},
   "outputs": [],
   "source": [
    "# alpha_range_ridge = np.arange(0.001,1,0.1)\n",
    "# print(regularization(Ridge,alpha_range_ridge))"
   ]
  },
  {
   "cell_type": "code",
   "execution_count": 94,
   "metadata": {},
   "outputs": [
    {
     "data": {
      "text/html": [
       "<div>\n",
       "<style scoped>\n",
       "    .dataframe tbody tr th:only-of-type {\n",
       "        vertical-align: middle;\n",
       "    }\n",
       "\n",
       "    .dataframe tbody tr th {\n",
       "        vertical-align: top;\n",
       "    }\n",
       "\n",
       "    .dataframe thead th {\n",
       "        text-align: right;\n",
       "    }\n",
       "</style>\n",
       "<table border=\"1\" class=\"dataframe\">\n",
       "  <thead>\n",
       "    <tr style=\"text-align: right;\">\n",
       "      <th></th>\n",
       "      <th>coef_linreg</th>\n",
       "      <th>coef_ridge</th>\n",
       "      <th>coef_lasso</th>\n",
       "      <th>coef_elastic_net</th>\n",
       "    </tr>\n",
       "  </thead>\n",
       "  <tbody>\n",
       "    <tr>\n",
       "      <th>coverage_breadth</th>\n",
       "      <td>13.274266</td>\n",
       "      <td>13.262707</td>\n",
       "      <td>13.440514</td>\n",
       "      <td>7.170234</td>\n",
       "    </tr>\n",
       "    <tr>\n",
       "      <th>usage_depth</th>\n",
       "      <td>14.170925</td>\n",
       "      <td>11.332335</td>\n",
       "      <td>12.528770</td>\n",
       "      <td>3.118966</td>\n",
       "    </tr>\n",
       "    <tr>\n",
       "      <th>payment</th>\n",
       "      <td>0.000156</td>\n",
       "      <td>0.008865</td>\n",
       "      <td>0.000000</td>\n",
       "      <td>0.635648</td>\n",
       "    </tr>\n",
       "    <tr>\n",
       "      <th>insurance</th>\n",
       "      <td>-0.000649</td>\n",
       "      <td>0.484353</td>\n",
       "      <td>0.000000</td>\n",
       "      <td>2.488287</td>\n",
       "    </tr>\n",
       "    <tr>\n",
       "      <th>monetary_fund</th>\n",
       "      <td>-0.000040</td>\n",
       "      <td>0.147474</td>\n",
       "      <td>0.000000</td>\n",
       "      <td>1.823712</td>\n",
       "    </tr>\n",
       "    <tr>\n",
       "      <th>investment</th>\n",
       "      <td>-0.000426</td>\n",
       "      <td>0.762578</td>\n",
       "      <td>0.000000</td>\n",
       "      <td>3.225963</td>\n",
       "    </tr>\n",
       "    <tr>\n",
       "      <th>credit</th>\n",
       "      <td>-0.000989</td>\n",
       "      <td>1.321231</td>\n",
       "      <td>0.067689</td>\n",
       "      <td>3.157250</td>\n",
       "    </tr>\n",
       "    <tr>\n",
       "      <th>credit_investigation</th>\n",
       "      <td>-0.000649</td>\n",
       "      <td>0.242229</td>\n",
       "      <td>0.000000</td>\n",
       "      <td>3.392936</td>\n",
       "    </tr>\n",
       "    <tr>\n",
       "      <th>digitization_level</th>\n",
       "      <td>7.646285</td>\n",
       "      <td>7.599476</td>\n",
       "      <td>6.256401</td>\n",
       "      <td>3.707699</td>\n",
       "    </tr>\n",
       "    <tr>\n",
       "      <th>flb</th>\n",
       "      <td>0.000003</td>\n",
       "      <td>-0.002026</td>\n",
       "      <td>0.000000</td>\n",
       "      <td>0.000000</td>\n",
       "    </tr>\n",
       "    <tr>\n",
       "      <th>gdp</th>\n",
       "      <td>0.000013</td>\n",
       "      <td>0.006597</td>\n",
       "      <td>0.000000</td>\n",
       "      <td>-0.000000</td>\n",
       "    </tr>\n",
       "    <tr>\n",
       "      <th>per_gdp</th>\n",
       "      <td>0.000002</td>\n",
       "      <td>0.000069</td>\n",
       "      <td>0.000000</td>\n",
       "      <td>0.477951</td>\n",
       "    </tr>\n",
       "    <tr>\n",
       "      <th>urban</th>\n",
       "      <td>0.000071</td>\n",
       "      <td>0.006810</td>\n",
       "      <td>0.000000</td>\n",
       "      <td>0.235828</td>\n",
       "    </tr>\n",
       "    <tr>\n",
       "      <th>industry</th>\n",
       "      <td>-0.000046</td>\n",
       "      <td>-0.000184</td>\n",
       "      <td>-0.000000</td>\n",
       "      <td>-0.383946</td>\n",
       "    </tr>\n",
       "    <tr>\n",
       "      <th>ip</th>\n",
       "      <td>-0.000020</td>\n",
       "      <td>0.010021</td>\n",
       "      <td>0.000000</td>\n",
       "      <td>1.082780</td>\n",
       "    </tr>\n",
       "    <tr>\n",
       "      <th>tradeopeness</th>\n",
       "      <td>-0.000019</td>\n",
       "      <td>0.001669</td>\n",
       "      <td>0.000000</td>\n",
       "      <td>0.508889</td>\n",
       "    </tr>\n",
       "  </tbody>\n",
       "</table>\n",
       "</div>"
      ],
      "text/plain": [
       "                      coef_linreg  coef_ridge  coef_lasso  coef_elastic_net\n",
       "coverage_breadth        13.274266   13.262707   13.440514          7.170234\n",
       "usage_depth             14.170925   11.332335   12.528770          3.118966\n",
       "payment                  0.000156    0.008865    0.000000          0.635648\n",
       "insurance               -0.000649    0.484353    0.000000          2.488287\n",
       "monetary_fund           -0.000040    0.147474    0.000000          1.823712\n",
       "investment              -0.000426    0.762578    0.000000          3.225963\n",
       "credit                  -0.000989    1.321231    0.067689          3.157250\n",
       "credit_investigation    -0.000649    0.242229    0.000000          3.392936\n",
       "digitization_level       7.646285    7.599476    6.256401          3.707699\n",
       "flb                      0.000003   -0.002026    0.000000          0.000000\n",
       "gdp                      0.000013    0.006597    0.000000         -0.000000\n",
       "per_gdp                  0.000002    0.000069    0.000000          0.477951\n",
       "urban                    0.000071    0.006810    0.000000          0.235828\n",
       "industry                -0.000046   -0.000184   -0.000000         -0.383946\n",
       "ip                      -0.000020    0.010021    0.000000          1.082780\n",
       "tradeopeness            -0.000019    0.001669    0.000000          0.508889"
      ]
     },
     "execution_count": 94,
     "metadata": {},
     "output_type": "execute_result"
    }
   ],
   "source": [
    "X_train_transformed = x_train.copy()\n",
    "linreg = LinearRegression().fit(X_train_transformed, y_train)\n",
    "ridge = Ridge().fit(X_train_transformed, y_train)\n",
    "lasso = Lasso().fit(X_train_transformed, y_train)\n",
    "en = ElasticNet().fit(X_train_transformed, y_train)\n",
    "pd.DataFrame({\n",
    "    \"coef_linreg\": pd.Series(linreg.coef_, index = X_train_transformed.columns),\n",
    "    \"coef_ridge\": pd.Series(ridge.coef_, index = X_train_transformed.columns),\n",
    "    \"coef_lasso\": pd.Series(lasso.coef_, index= X_train_transformed.columns),\n",
    "    \"coef_elastic_net\": pd.Series(en.coef_, index=X_train_transformed.columns)\n",
    "})"
   ]
  },
  {
   "cell_type": "code",
   "execution_count": null,
   "metadata": {},
   "outputs": [],
   "source": []
  },
  {
   "cell_type": "code",
   "execution_count": null,
   "metadata": {},
   "outputs": [],
   "source": []
  },
  {
   "cell_type": "markdown",
   "metadata": {},
   "source": [
    "## Using Xgboost"
   ]
  },
  {
   "cell_type": "code",
   "execution_count": 26,
   "metadata": {},
   "outputs": [
    {
     "data": {
      "text/html": [
       "<div>\n",
       "<style scoped>\n",
       "    .dataframe tbody tr th:only-of-type {\n",
       "        vertical-align: middle;\n",
       "    }\n",
       "\n",
       "    .dataframe tbody tr th {\n",
       "        vertical-align: top;\n",
       "    }\n",
       "\n",
       "    .dataframe thead th {\n",
       "        text-align: right;\n",
       "    }\n",
       "</style>\n",
       "<table border=\"1\" class=\"dataframe\">\n",
       "  <thead>\n",
       "    <tr style=\"text-align: right;\">\n",
       "      <th></th>\n",
       "      <th>year</th>\n",
       "      <th>county_name</th>\n",
       "      <th>county_code_year14</th>\n",
       "      <th>prov_code</th>\n",
       "      <th>prov_name</th>\n",
       "      <th>pref_code</th>\n",
       "      <th>pref_name</th>\n",
       "      <th>index_aggregate</th>\n",
       "      <th>coverage_breadth</th>\n",
       "      <th>usage_depth</th>\n",
       "      <th>...</th>\n",
       "      <th>credit</th>\n",
       "      <th>credit_investigation</th>\n",
       "      <th>digitization_level</th>\n",
       "      <th>flb</th>\n",
       "      <th>gdp</th>\n",
       "      <th>per_gdp</th>\n",
       "      <th>urban</th>\n",
       "      <th>industry</th>\n",
       "      <th>ip</th>\n",
       "      <th>tradeopeness</th>\n",
       "    </tr>\n",
       "  </thead>\n",
       "  <tbody>\n",
       "    <tr>\n",
       "      <th>0</th>\n",
       "      <td>2014</td>\n",
       "      <td>万全县</td>\n",
       "      <td>130729</td>\n",
       "      <td>13</td>\n",
       "      <td>河北省</td>\n",
       "      <td>1307</td>\n",
       "      <td>张家口市</td>\n",
       "      <td>44.58</td>\n",
       "      <td>52.42</td>\n",
       "      <td>37.77</td>\n",
       "      <td>...</td>\n",
       "      <td>35.34</td>\n",
       "      <td>0.0</td>\n",
       "      <td>31.04</td>\n",
       "      <td>528889.0</td>\n",
       "      <td>634602.0</td>\n",
       "      <td>27323.0</td>\n",
       "      <td>0.214560</td>\n",
       "      <td>0.432618</td>\n",
       "      <td>0.064318</td>\n",
       "      <td>0.010522</td>\n",
       "    </tr>\n",
       "    <tr>\n",
       "      <th>1</th>\n",
       "      <td>2014</td>\n",
       "      <td>万安县</td>\n",
       "      <td>360828</td>\n",
       "      <td>36</td>\n",
       "      <td>江西省</td>\n",
       "      <td>3608</td>\n",
       "      <td>吉安市</td>\n",
       "      <td>44.39</td>\n",
       "      <td>33.21</td>\n",
       "      <td>78.26</td>\n",
       "      <td>...</td>\n",
       "      <td>85.27</td>\n",
       "      <td>0.0</td>\n",
       "      <td>19.80</td>\n",
       "      <td>341328.0</td>\n",
       "      <td>575617.0</td>\n",
       "      <td>27323.0</td>\n",
       "      <td>0.214560</td>\n",
       "      <td>0.361632</td>\n",
       "      <td>0.106057</td>\n",
       "      <td>0.031628</td>\n",
       "    </tr>\n",
       "    <tr>\n",
       "      <th>2</th>\n",
       "      <td>2014</td>\n",
       "      <td>万年县</td>\n",
       "      <td>361129</td>\n",
       "      <td>36</td>\n",
       "      <td>江西省</td>\n",
       "      <td>3611</td>\n",
       "      <td>上饶市</td>\n",
       "      <td>47.34</td>\n",
       "      <td>42.86</td>\n",
       "      <td>60.84</td>\n",
       "      <td>...</td>\n",
       "      <td>57.87</td>\n",
       "      <td>0.0</td>\n",
       "      <td>37.63</td>\n",
       "      <td>644512.0</td>\n",
       "      <td>1000000.0</td>\n",
       "      <td>27323.0</td>\n",
       "      <td>0.214560</td>\n",
       "      <td>0.361632</td>\n",
       "      <td>0.106057</td>\n",
       "      <td>0.031628</td>\n",
       "    </tr>\n",
       "    <tr>\n",
       "      <th>3</th>\n",
       "      <td>2014</td>\n",
       "      <td>万源市</td>\n",
       "      <td>511781</td>\n",
       "      <td>51</td>\n",
       "      <td>四川省</td>\n",
       "      <td>5117</td>\n",
       "      <td>达州市</td>\n",
       "      <td>41.67</td>\n",
       "      <td>46.64</td>\n",
       "      <td>41.19</td>\n",
       "      <td>...</td>\n",
       "      <td>45.24</td>\n",
       "      <td>0.0</td>\n",
       "      <td>26.13</td>\n",
       "      <td>574068.0</td>\n",
       "      <td>1200000.0</td>\n",
       "      <td>28395.0</td>\n",
       "      <td>0.561833</td>\n",
       "      <td>0.361632</td>\n",
       "      <td>0.078333</td>\n",
       "      <td>0.005540</td>\n",
       "    </tr>\n",
       "    <tr>\n",
       "      <th>4</th>\n",
       "      <td>2014</td>\n",
       "      <td>万荣县</td>\n",
       "      <td>140822</td>\n",
       "      <td>14</td>\n",
       "      <td>山西省</td>\n",
       "      <td>1408</td>\n",
       "      <td>运城市</td>\n",
       "      <td>45.07</td>\n",
       "      <td>48.69</td>\n",
       "      <td>44.57</td>\n",
       "      <td>...</td>\n",
       "      <td>62.17</td>\n",
       "      <td>0.0</td>\n",
       "      <td>34.01</td>\n",
       "      <td>359126.0</td>\n",
       "      <td>618199.0</td>\n",
       "      <td>13778.0</td>\n",
       "      <td>0.069839</td>\n",
       "      <td>0.361632</td>\n",
       "      <td>0.106057</td>\n",
       "      <td>0.031628</td>\n",
       "    </tr>\n",
       "  </tbody>\n",
       "</table>\n",
       "<p>5 rows × 24 columns</p>\n",
       "</div>"
      ],
      "text/plain": [
       "   year county_name  county_code_year14  prov_code prov_name  pref_code  \\\n",
       "0  2014         万全县              130729         13       河北省       1307   \n",
       "1  2014         万安县              360828         36       江西省       3608   \n",
       "2  2014         万年县              361129         36       江西省       3611   \n",
       "3  2014         万源市              511781         51       四川省       5117   \n",
       "4  2014         万荣县              140822         14       山西省       1408   \n",
       "\n",
       "  pref_name  index_aggregate  coverage_breadth  usage_depth  ...  credit  \\\n",
       "0      张家口市            44.58             52.42        37.77  ...   35.34   \n",
       "1       吉安市            44.39             33.21        78.26  ...   85.27   \n",
       "2       上饶市            47.34             42.86        60.84  ...   57.87   \n",
       "3       达州市            41.67             46.64        41.19  ...   45.24   \n",
       "4       运城市            45.07             48.69        44.57  ...   62.17   \n",
       "\n",
       "   credit_investigation  digitization_level       flb        gdp  per_gdp  \\\n",
       "0                   0.0               31.04  528889.0   634602.0  27323.0   \n",
       "1                   0.0               19.80  341328.0   575617.0  27323.0   \n",
       "2                   0.0               37.63  644512.0  1000000.0  27323.0   \n",
       "3                   0.0               26.13  574068.0  1200000.0  28395.0   \n",
       "4                   0.0               34.01  359126.0   618199.0  13778.0   \n",
       "\n",
       "      urban  industry        ip  tradeopeness  \n",
       "0  0.214560  0.432618  0.064318      0.010522  \n",
       "1  0.214560  0.361632  0.106057      0.031628  \n",
       "2  0.214560  0.361632  0.106057      0.031628  \n",
       "3  0.561833  0.361632  0.078333      0.005540  \n",
       "4  0.069839  0.361632  0.106057      0.031628  \n",
       "\n",
       "[5 rows x 24 columns]"
      ]
     },
     "execution_count": 26,
     "metadata": {},
     "output_type": "execute_result"
    }
   ],
   "source": [
    "df.head()"
   ]
  },
  {
   "cell_type": "code",
   "execution_count": 27,
   "metadata": {},
   "outputs": [],
   "source": [
    "ca_col = [x for x in df.columns if df.dtypes[x] == \"object\"]\n",
    "nu_col = [x for x in df.columns if df.dtypes[x] != \"object\"]"
   ]
  },
  {
   "cell_type": "code",
   "execution_count": 28,
   "metadata": {},
   "outputs": [
    {
     "data": {
      "text/plain": [
       "['county_name', 'prov_name', 'pref_name']"
      ]
     },
     "execution_count": 28,
     "metadata": {},
     "output_type": "execute_result"
    }
   ],
   "source": [
    "ca_col"
   ]
  },
  {
   "cell_type": "code",
   "execution_count": 29,
   "metadata": {},
   "outputs": [
    {
     "data": {
      "text/plain": [
       "['year',\n",
       " 'county_code_year14',\n",
       " 'prov_code',\n",
       " 'pref_code',\n",
       " 'index_aggregate',\n",
       " 'coverage_breadth',\n",
       " 'usage_depth',\n",
       " 'payment',\n",
       " 'insurance',\n",
       " 'monetary_fund',\n",
       " 'investment',\n",
       " 'credit',\n",
       " 'credit_investigation',\n",
       " 'digitization_level',\n",
       " 'flb',\n",
       " 'gdp',\n",
       " 'per_gdp',\n",
       " 'urban',\n",
       " 'industry',\n",
       " 'ip',\n",
       " 'tradeopeness']"
      ]
     },
     "execution_count": 29,
     "metadata": {},
     "output_type": "execute_result"
    }
   ],
   "source": [
    "nu_col"
   ]
  },
  {
   "cell_type": "code",
   "execution_count": 30,
   "metadata": {},
   "outputs": [
    {
     "data": {
      "text/plain": [
       "Index(['year', 'county_name', 'county_code_year14', 'prov_code', 'prov_name',\n",
       "       'pref_code', 'pref_name', 'index_aggregate', 'coverage_breadth',\n",
       "       'usage_depth', 'payment', 'insurance', 'monetary_fund', 'investment',\n",
       "       'credit', 'credit_investigation', 'digitization_level', 'flb', 'gdp',\n",
       "       'per_gdp', 'urban', 'industry', 'ip', 'tradeopeness'],\n",
       "      dtype='object')"
      ]
     },
     "execution_count": 30,
     "metadata": {},
     "output_type": "execute_result"
    }
   ],
   "source": [
    "df.columns"
   ]
  },
  {
   "cell_type": "code",
   "execution_count": 31,
   "metadata": {},
   "outputs": [],
   "source": [
    "y = df[\"index_aggregate\"]"
   ]
  },
  {
   "cell_type": "code",
   "execution_count": 32,
   "metadata": {},
   "outputs": [],
   "source": [
    "X = df[['coverage_breadth',\n",
    "       'usage_depth', 'payment', 'insurance', 'monetary_fund', 'investment',\n",
    "       'credit', 'credit_investigation', 'digitization_level', 'flb', 'gdp',\n",
    "       'per_gdp', 'urban', 'industry', 'ip', 'tradeopeness']]"
   ]
  },
  {
   "cell_type": "code",
   "execution_count": 62,
   "metadata": {},
   "outputs": [
    {
     "data": {
      "text/html": [
       "<div>\n",
       "<style scoped>\n",
       "    .dataframe tbody tr th:only-of-type {\n",
       "        vertical-align: middle;\n",
       "    }\n",
       "\n",
       "    .dataframe tbody tr th {\n",
       "        vertical-align: top;\n",
       "    }\n",
       "\n",
       "    .dataframe thead th {\n",
       "        text-align: right;\n",
       "    }\n",
       "</style>\n",
       "<table border=\"1\" class=\"dataframe\">\n",
       "  <thead>\n",
       "    <tr style=\"text-align: right;\">\n",
       "      <th></th>\n",
       "      <th>coverage_breadth</th>\n",
       "      <th>usage_depth</th>\n",
       "      <th>payment</th>\n",
       "      <th>insurance</th>\n",
       "      <th>monetary_fund</th>\n",
       "      <th>investment</th>\n",
       "      <th>credit</th>\n",
       "      <th>credit_investigation</th>\n",
       "      <th>digitization_level</th>\n",
       "      <th>flb</th>\n",
       "      <th>gdp</th>\n",
       "      <th>per_gdp</th>\n",
       "      <th>urban</th>\n",
       "      <th>industry</th>\n",
       "      <th>ip</th>\n",
       "      <th>tradeopeness</th>\n",
       "    </tr>\n",
       "  </thead>\n",
       "  <tbody>\n",
       "    <tr>\n",
       "      <th>0</th>\n",
       "      <td>0.414710</td>\n",
       "      <td>0.215336</td>\n",
       "      <td>0.253060</td>\n",
       "      <td>0.270633</td>\n",
       "      <td>0.246113</td>\n",
       "      <td>0.276129</td>\n",
       "      <td>0.313916</td>\n",
       "      <td>0.0</td>\n",
       "      <td>0.415321</td>\n",
       "      <td>0.015534</td>\n",
       "      <td>0.016083</td>\n",
       "      <td>0.068599</td>\n",
       "      <td>0.686824</td>\n",
       "      <td>0.140048</td>\n",
       "      <td>0.040320</td>\n",
       "      <td>0.005253</td>\n",
       "    </tr>\n",
       "    <tr>\n",
       "      <th>1</th>\n",
       "      <td>0.322844</td>\n",
       "      <td>0.446180</td>\n",
       "      <td>0.344376</td>\n",
       "      <td>0.510482</td>\n",
       "      <td>0.441763</td>\n",
       "      <td>0.353663</td>\n",
       "      <td>0.522262</td>\n",
       "      <td>0.0</td>\n",
       "      <td>0.391555</td>\n",
       "      <td>0.010018</td>\n",
       "      <td>0.014529</td>\n",
       "      <td>0.068599</td>\n",
       "      <td>0.686824</td>\n",
       "      <td>0.116538</td>\n",
       "      <td>0.075242</td>\n",
       "      <td>0.015630</td>\n",
       "    </tr>\n",
       "    <tr>\n",
       "      <th>2</th>\n",
       "      <td>0.368992</td>\n",
       "      <td>0.346864</td>\n",
       "      <td>0.348687</td>\n",
       "      <td>0.467725</td>\n",
       "      <td>0.422017</td>\n",
       "      <td>0.289645</td>\n",
       "      <td>0.407928</td>\n",
       "      <td>0.0</td>\n",
       "      <td>0.429254</td>\n",
       "      <td>0.018935</td>\n",
       "      <td>0.025704</td>\n",
       "      <td>0.068599</td>\n",
       "      <td>0.686824</td>\n",
       "      <td>0.116538</td>\n",
       "      <td>0.075242</td>\n",
       "      <td>0.015630</td>\n",
       "    </tr>\n",
       "    <tr>\n",
       "      <th>3</th>\n",
       "      <td>0.387069</td>\n",
       "      <td>0.234835</td>\n",
       "      <td>0.264158</td>\n",
       "      <td>0.357350</td>\n",
       "      <td>0.185634</td>\n",
       "      <td>0.210524</td>\n",
       "      <td>0.355226</td>\n",
       "      <td>0.0</td>\n",
       "      <td>0.404939</td>\n",
       "      <td>0.016863</td>\n",
       "      <td>0.030971</td>\n",
       "      <td>0.071908</td>\n",
       "      <td>0.826206</td>\n",
       "      <td>0.116538</td>\n",
       "      <td>0.052047</td>\n",
       "      <td>0.002803</td>\n",
       "    </tr>\n",
       "    <tr>\n",
       "      <th>4</th>\n",
       "      <td>0.396872</td>\n",
       "      <td>0.254105</td>\n",
       "      <td>0.259846</td>\n",
       "      <td>0.247597</td>\n",
       "      <td>0.277163</td>\n",
       "      <td>0.203550</td>\n",
       "      <td>0.425871</td>\n",
       "      <td>0.0</td>\n",
       "      <td>0.421600</td>\n",
       "      <td>0.010541</td>\n",
       "      <td>0.015651</td>\n",
       "      <td>0.026784</td>\n",
       "      <td>0.628738</td>\n",
       "      <td>0.116538</td>\n",
       "      <td>0.075242</td>\n",
       "      <td>0.015630</td>\n",
       "    </tr>\n",
       "  </tbody>\n",
       "</table>\n",
       "</div>"
      ],
      "text/plain": [
       "   coverage_breadth  usage_depth   payment  insurance  monetary_fund  \\\n",
       "0          0.414710     0.215336  0.253060   0.270633       0.246113   \n",
       "1          0.322844     0.446180  0.344376   0.510482       0.441763   \n",
       "2          0.368992     0.346864  0.348687   0.467725       0.422017   \n",
       "3          0.387069     0.234835  0.264158   0.357350       0.185634   \n",
       "4          0.396872     0.254105  0.259846   0.247597       0.277163   \n",
       "\n",
       "   investment    credit  credit_investigation  digitization_level       flb  \\\n",
       "0    0.276129  0.313916                   0.0            0.415321  0.015534   \n",
       "1    0.353663  0.522262                   0.0            0.391555  0.010018   \n",
       "2    0.289645  0.407928                   0.0            0.429254  0.018935   \n",
       "3    0.210524  0.355226                   0.0            0.404939  0.016863   \n",
       "4    0.203550  0.425871                   0.0            0.421600  0.010541   \n",
       "\n",
       "        gdp   per_gdp     urban  industry        ip  tradeopeness  \n",
       "0  0.016083  0.068599  0.686824  0.140048  0.040320      0.005253  \n",
       "1  0.014529  0.068599  0.686824  0.116538  0.075242      0.015630  \n",
       "2  0.025704  0.068599  0.686824  0.116538  0.075242      0.015630  \n",
       "3  0.030971  0.071908  0.826206  0.116538  0.052047      0.002803  \n",
       "4  0.015651  0.026784  0.628738  0.116538  0.075242      0.015630  "
      ]
     },
     "execution_count": 62,
     "metadata": {},
     "output_type": "execute_result"
    }
   ],
   "source": [
    "X.head()"
   ]
  },
  {
   "cell_type": "code",
   "execution_count": 46,
   "metadata": {},
   "outputs": [],
   "source": [
    "from sklearn.preprocessing import MinMaxScaler\n",
    "from sklearn.preprocessing import RobustScaler\n",
    "from sklearn.preprocessing import StandardScaler\n",
    "X = MinMaxScaler().fit_transform(X)\n",
    "X = pd.DataFrame(X, columns = ['coverage_breadth',\n",
    "       'usage_depth', 'payment', 'insurance', 'monetary_fund', 'investment',\n",
    "       'credit', 'credit_investigation', 'digitization_level', 'flb', 'gdp',\n",
    "       'per_gdp', 'urban', 'industry', 'ip', 'tradeopeness'])"
   ]
  },
  {
   "cell_type": "code",
   "execution_count": 47,
   "metadata": {},
   "outputs": [],
   "source": [
    "import xgboost as xgb\n",
    "from sklearn.metrics import mean_squared_error\n",
    "import pandas as pd\n",
    "import numpy as np"
   ]
  },
  {
   "cell_type": "code",
   "execution_count": 48,
   "metadata": {},
   "outputs": [],
   "source": [
    "data_dmatrix = xgb.DMatrix(data=X,label=y)"
   ]
  },
  {
   "cell_type": "code",
   "execution_count": 49,
   "metadata": {},
   "outputs": [],
   "source": [
    "from sklearn.model_selection import train_test_split\n",
    "\n",
    "X_train, X_test, y_train, y_test = train_test_split(X, y, test_size=0.2, random_state=1)"
   ]
  },
  {
   "cell_type": "code",
   "execution_count": 50,
   "metadata": {},
   "outputs": [],
   "source": [
    "xg_reg = xgb.XGBRegressor(objective ='reg:linear', colsample_bytree = 0.3, learning_rate = 0.1,\n",
    "                max_depth = 5, alpha = 10, n_estimators = 10)"
   ]
  },
  {
   "cell_type": "code",
   "execution_count": 51,
   "metadata": {},
   "outputs": [
    {
     "name": "stdout",
     "output_type": "stream",
     "text": [
      "[16:03:13] WARNING: /Users/travis/build/dmlc/xgboost/src/objective/regression_obj.cu:170: reg:linear is now deprecated in favor of reg:squarederror.\n",
      "[16:03:14] WARNING: /Users/travis/build/dmlc/xgboost/src/objective/regression_obj.cu:170: reg:linear is now deprecated in favor of reg:squarederror.\n"
     ]
    }
   ],
   "source": [
    "xg_reg.fit(X_train,y_train)\n",
    "\n",
    "preds = xg_reg.predict(X_test)"
   ]
  },
  {
   "cell_type": "code",
   "execution_count": 52,
   "metadata": {},
   "outputs": [
    {
     "name": "stdout",
     "output_type": "stream",
     "text": [
      "RMSE: 30.293280\n"
     ]
    }
   ],
   "source": [
    "rmse = np.sqrt(mean_squared_error(y_test, preds))\n",
    "print(\"RMSE: %f\" % (rmse))"
   ]
  },
  {
   "cell_type": "code",
   "execution_count": 53,
   "metadata": {},
   "outputs": [
    {
     "name": "stdout",
     "output_type": "stream",
     "text": [
      "[16:03:14] WARNING: /Users/travis/build/dmlc/xgboost/src/objective/regression_obj.cu:170: reg:linear is now deprecated in favor of reg:squarederror.\n",
      "[16:03:14] WARNING: /Users/travis/build/dmlc/xgboost/src/objective/regression_obj.cu:170: reg:linear is now deprecated in favor of reg:squarederror.\n",
      "[16:03:14] WARNING: /Users/travis/build/dmlc/xgboost/src/objective/regression_obj.cu:170: reg:linear is now deprecated in favor of reg:squarederror.\n"
     ]
    }
   ],
   "source": [
    "params = {\"objective\":\"reg:linear\",'colsample_bytree': 0.3,'learning_rate': 0.1,\n",
    "                'max_depth': 5, 'alpha': 10}\n",
    "\n",
    "cv_results = xgb.cv(dtrain=data_dmatrix, params=params, nfold=3,\n",
    "                    num_boost_round=50,early_stopping_rounds=10,metrics=\"rmse\", as_pandas=True, seed=123)"
   ]
  },
  {
   "cell_type": "code",
   "execution_count": 54,
   "metadata": {},
   "outputs": [
    {
     "data": {
      "text/html": [
       "<div>\n",
       "<style scoped>\n",
       "    .dataframe tbody tr th:only-of-type {\n",
       "        vertical-align: middle;\n",
       "    }\n",
       "\n",
       "    .dataframe tbody tr th {\n",
       "        vertical-align: top;\n",
       "    }\n",
       "\n",
       "    .dataframe thead th {\n",
       "        text-align: right;\n",
       "    }\n",
       "</style>\n",
       "<table border=\"1\" class=\"dataframe\">\n",
       "  <thead>\n",
       "    <tr style=\"text-align: right;\">\n",
       "      <th></th>\n",
       "      <th>train-rmse-mean</th>\n",
       "      <th>train-rmse-std</th>\n",
       "      <th>test-rmse-mean</th>\n",
       "      <th>test-rmse-std</th>\n",
       "    </tr>\n",
       "  </thead>\n",
       "  <tbody>\n",
       "    <tr>\n",
       "      <th>45</th>\n",
       "      <td>2.681308</td>\n",
       "      <td>0.366730</td>\n",
       "      <td>3.309652</td>\n",
       "      <td>0.562996</td>\n",
       "    </tr>\n",
       "    <tr>\n",
       "      <th>46</th>\n",
       "      <td>2.649602</td>\n",
       "      <td>0.364027</td>\n",
       "      <td>3.287302</td>\n",
       "      <td>0.561923</td>\n",
       "    </tr>\n",
       "    <tr>\n",
       "      <th>47</th>\n",
       "      <td>2.592660</td>\n",
       "      <td>0.346600</td>\n",
       "      <td>3.232437</td>\n",
       "      <td>0.533956</td>\n",
       "    </tr>\n",
       "    <tr>\n",
       "      <th>48</th>\n",
       "      <td>2.533843</td>\n",
       "      <td>0.354524</td>\n",
       "      <td>3.179478</td>\n",
       "      <td>0.531106</td>\n",
       "    </tr>\n",
       "    <tr>\n",
       "      <th>49</th>\n",
       "      <td>2.489865</td>\n",
       "      <td>0.344093</td>\n",
       "      <td>3.138203</td>\n",
       "      <td>0.511278</td>\n",
       "    </tr>\n",
       "  </tbody>\n",
       "</table>\n",
       "</div>"
      ],
      "text/plain": [
       "    train-rmse-mean  train-rmse-std  test-rmse-mean  test-rmse-std\n",
       "45         2.681308        0.366730        3.309652       0.562996\n",
       "46         2.649602        0.364027        3.287302       0.561923\n",
       "47         2.592660        0.346600        3.232437       0.533956\n",
       "48         2.533843        0.354524        3.179478       0.531106\n",
       "49         2.489865        0.344093        3.138203       0.511278"
      ]
     },
     "execution_count": 54,
     "metadata": {},
     "output_type": "execute_result"
    }
   ],
   "source": [
    "cv_results.tail()"
   ]
  },
  {
   "cell_type": "code",
   "execution_count": 55,
   "metadata": {},
   "outputs": [
    {
     "data": {
      "text/plain": [
       "49    3.138203\n",
       "Name: test-rmse-mean, dtype: float64"
      ]
     },
     "execution_count": 55,
     "metadata": {},
     "output_type": "execute_result"
    }
   ],
   "source": [
    "(cv_results[\"test-rmse-mean\"]).tail(1)"
   ]
  },
  {
   "cell_type": "code",
   "execution_count": 56,
   "metadata": {},
   "outputs": [
    {
     "name": "stdout",
     "output_type": "stream",
     "text": [
      "[16:03:15] WARNING: /Users/travis/build/dmlc/xgboost/src/objective/regression_obj.cu:170: reg:linear is now deprecated in favor of reg:squarederror.\n",
      "[16:03:15] WARNING: /Users/travis/build/dmlc/xgboost/src/objective/regression_obj.cu:170: reg:linear is now deprecated in favor of reg:squarederror.\n"
     ]
    }
   ],
   "source": [
    "xg_reg = xgb.train(params=params, dtrain=data_dmatrix, num_boost_round=10)"
   ]
  },
  {
   "cell_type": "code",
   "execution_count": 66,
   "metadata": {},
   "outputs": [
    {
     "data": {
      "image/png": "[encoded data removed]",
      "text/plain": [
       "<Figure size 720x360 with 1 Axes>"
      ]
     },
     "metadata": {
      "needs_background": "light"
     },
     "output_type": "display_data"
    }
   ],
   "source": [
    "import matplotlib.pyplot as plt\n",
    "\n",
    "xgb.plot_tree(xg_reg,num_trees=0)\n",
    "plt.rcParams['figure.figsize'] = [8, 5]\n",
    "plt.show()"
   ]
  },
  {
   "cell_type": "code",
   "execution_count": 58,
   "metadata": {},
   "outputs": [
    {
     "data": {
      "image/png": "[encoded data removed]",
      "text/plain": [
       "<Figure size 864x720 with 1 Axes>"
      ]
     },
     "metadata": {
      "needs_background": "light"
     },
     "output_type": "display_data"
    }
   ],
   "source": [
    "xgb.plot_importance(xg_reg)\n",
    "plt.rcParams['figure.figsize'] = [5, 5]\n",
    "plt.show()"
   ]
  },
  {
   "cell_type": "code",
   "execution_count": null,
   "metadata": {},
   "outputs": [],
   "source": []
  },
  {
   "cell_type": "code",
   "execution_count": 59,
   "metadata": {},
   "outputs": [],
   "source": [
    "# import matplotlib\n",
    "# print(matplotlib.matplotlib_fname())"
   ]
  },
  {
   "cell_type": "code",
   "execution_count": 60,
   "metadata": {},
   "outputs": [],
   "source": [
    "# import matplotlib.font_manager\n",
    "# matplotlib.font_manager._rebuild()"
   ]
  },
  {
   "cell_type": "code",
   "execution_count": 3,
   "metadata": {},
   "outputs": [
    {
     "data": {
      "text/plain": [
       "[<Font 'Heiti TC' (STHeitiTC-Medium-01.ttf) normal normal 400 normal>,\n",
       " <Font 'Heiti TC' (STHeiti Medium.ttc) normal normal 400 normal>,\n",
       " <Font 'STHeiti' (STXIHEI.ttf) normal normal 300 normal>,\n",
       " <Font 'STHeiti' (STHEITI.ttf) normal normal 400 normal>,\n",
       " <Font 'Heiti TC' (STHeiti Light.ttc) normal normal 300 normal>]"
      ]
     },
     "execution_count": 3,
     "metadata": {},
     "output_type": "execute_result"
    }
   ],
   "source": [
    "# [f for f in matplotlib.font_manager.fontManager.ttflist if 'Heiti' in f.name]"
   ]
  },
  {
   "cell_type": "code",
   "execution_count": null,
   "metadata": {},
   "outputs": [],
   "source": []
  }
 ],
 "metadata": {
  "kernelspec": {
   "display_name": "Python 3",
   "language": "python",
   "name": "python3"
  },
  "language_info": {
   "codemirror_mode": {
    "name": "ipython",
    "version": 3
   },
   "file_extension": ".py",
   "mimetype": "text/x-python",
   "name": "python",
   "nbconvert_exporter": "python",
   "pygments_lexer": "ipython3",
   "version": "3.7.7"
  }
 },
 "nbformat": 4,
 "nbformat_minor": 4
}
